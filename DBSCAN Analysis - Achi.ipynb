{
 "cells": [
  {
   "cell_type": "code",
   "execution_count": 2,
   "id": "e6fe2aea-5b32-4f96-b061-3396476272dd",
   "metadata": {
    "tags": []
   },
   "outputs": [],
   "source": [
    "import pandas as pd\n",
    "review = pd.read_parquet(\"review.parquet\")\n",
    "business = pd.read_parquet(\"business.parquet\")\n",
    "user = pd.read_parquet(\"user.parquet\")"
   ]
  },
  {
   "cell_type": "code",
   "execution_count": 3,
   "id": "fa408d00-dd59-4ec1-bc49-a912918a2363",
   "metadata": {
    "tags": []
   },
   "outputs": [
    {
     "data": {
      "text/html": [
       "<div>\n",
       "<style scoped>\n",
       "    .dataframe tbody tr th:only-of-type {\n",
       "        vertical-align: middle;\n",
       "    }\n",
       "\n",
       "    .dataframe tbody tr th {\n",
       "        vertical-align: top;\n",
       "    }\n",
       "\n",
       "    .dataframe thead th {\n",
       "        text-align: right;\n",
       "    }\n",
       "</style>\n",
       "<table border=\"1\" class=\"dataframe\">\n",
       "  <thead>\n",
       "    <tr style=\"text-align: right;\">\n",
       "      <th></th>\n",
       "      <th>business_id</th>\n",
       "      <th>name</th>\n",
       "      <th>address</th>\n",
       "      <th>city</th>\n",
       "      <th>state</th>\n",
       "      <th>postal_code</th>\n",
       "      <th>latitude</th>\n",
       "      <th>longitude</th>\n",
       "      <th>stars</th>\n",
       "      <th>review_count</th>\n",
       "      <th>is_open</th>\n",
       "      <th>attributes</th>\n",
       "      <th>categories</th>\n",
       "      <th>hours</th>\n",
       "    </tr>\n",
       "  </thead>\n",
       "  <tbody>\n",
       "    <tr>\n",
       "      <th>0</th>\n",
       "      <td>Pns2l4eNsfO8kk83dixA6A</td>\n",
       "      <td>Abby Rappoport, LAC, CMQ</td>\n",
       "      <td>1616 Chapala St, Ste 2</td>\n",
       "      <td>Santa Barbara</td>\n",
       "      <td>CA</td>\n",
       "      <td>93101</td>\n",
       "      <td>34.426679</td>\n",
       "      <td>-119.711197</td>\n",
       "      <td>5.0</td>\n",
       "      <td>7</td>\n",
       "      <td>0</td>\n",
       "      <td>{'AcceptsInsurance': None, 'AgesAllowed': None...</td>\n",
       "      <td>Doctors, Traditional Chinese Medicine, Naturop...</td>\n",
       "      <td>None</td>\n",
       "    </tr>\n",
       "    <tr>\n",
       "      <th>1</th>\n",
       "      <td>mpf3x-BjTdTEA3yCZrAYPw</td>\n",
       "      <td>The UPS Store</td>\n",
       "      <td>87 Grasso Plaza Shopping Center</td>\n",
       "      <td>Affton</td>\n",
       "      <td>MO</td>\n",
       "      <td>63123</td>\n",
       "      <td>38.551126</td>\n",
       "      <td>-90.335695</td>\n",
       "      <td>3.0</td>\n",
       "      <td>15</td>\n",
       "      <td>1</td>\n",
       "      <td>{'AcceptsInsurance': None, 'AgesAllowed': None...</td>\n",
       "      <td>Shipping Centers, Local Services, Notaries, Ma...</td>\n",
       "      <td>{'Friday': '8:0-18:30', 'Monday': '0:0-0:0', '...</td>\n",
       "    </tr>\n",
       "    <tr>\n",
       "      <th>2</th>\n",
       "      <td>tUFrWirKiKi_TAnsVWINQQ</td>\n",
       "      <td>Target</td>\n",
       "      <td>5255 E Broadway Blvd</td>\n",
       "      <td>Tucson</td>\n",
       "      <td>AZ</td>\n",
       "      <td>85711</td>\n",
       "      <td>32.223236</td>\n",
       "      <td>-110.880452</td>\n",
       "      <td>3.5</td>\n",
       "      <td>22</td>\n",
       "      <td>0</td>\n",
       "      <td>{'AcceptsInsurance': None, 'AgesAllowed': None...</td>\n",
       "      <td>Department Stores, Shopping, Fashion, Home &amp; G...</td>\n",
       "      <td>{'Friday': '8:0-23:0', 'Monday': '8:0-22:0', '...</td>\n",
       "    </tr>\n",
       "    <tr>\n",
       "      <th>3</th>\n",
       "      <td>MTSW4McQd7CbVtyjqoe9mw</td>\n",
       "      <td>St Honore Pastries</td>\n",
       "      <td>935 Race St</td>\n",
       "      <td>Philadelphia</td>\n",
       "      <td>PA</td>\n",
       "      <td>19107</td>\n",
       "      <td>39.955505</td>\n",
       "      <td>-75.155564</td>\n",
       "      <td>4.0</td>\n",
       "      <td>80</td>\n",
       "      <td>1</td>\n",
       "      <td>{'AcceptsInsurance': None, 'AgesAllowed': None...</td>\n",
       "      <td>Restaurants, Food, Bubble Tea, Coffee &amp; Tea, B...</td>\n",
       "      <td>{'Friday': '7:0-21:0', 'Monday': '7:0-20:0', '...</td>\n",
       "    </tr>\n",
       "    <tr>\n",
       "      <th>4</th>\n",
       "      <td>mWMc6_wTdE0EUBKIGXDVfA</td>\n",
       "      <td>Perkiomen Valley Brewery</td>\n",
       "      <td>101 Walnut St</td>\n",
       "      <td>Green Lane</td>\n",
       "      <td>PA</td>\n",
       "      <td>18054</td>\n",
       "      <td>40.338183</td>\n",
       "      <td>-75.471659</td>\n",
       "      <td>4.5</td>\n",
       "      <td>13</td>\n",
       "      <td>1</td>\n",
       "      <td>{'AcceptsInsurance': None, 'AgesAllowed': None...</td>\n",
       "      <td>Brewpubs, Breweries, Food</td>\n",
       "      <td>{'Friday': '12:0-22:0', 'Monday': None, 'Satur...</td>\n",
       "    </tr>\n",
       "  </tbody>\n",
       "</table>\n",
       "</div>"
      ],
      "text/plain": [
       "              business_id                      name  \\\n",
       "0  Pns2l4eNsfO8kk83dixA6A  Abby Rappoport, LAC, CMQ   \n",
       "1  mpf3x-BjTdTEA3yCZrAYPw             The UPS Store   \n",
       "2  tUFrWirKiKi_TAnsVWINQQ                    Target   \n",
       "3  MTSW4McQd7CbVtyjqoe9mw        St Honore Pastries   \n",
       "4  mWMc6_wTdE0EUBKIGXDVfA  Perkiomen Valley Brewery   \n",
       "\n",
       "                           address           city state postal_code  \\\n",
       "0           1616 Chapala St, Ste 2  Santa Barbara    CA       93101   \n",
       "1  87 Grasso Plaza Shopping Center         Affton    MO       63123   \n",
       "2             5255 E Broadway Blvd         Tucson    AZ       85711   \n",
       "3                      935 Race St   Philadelphia    PA       19107   \n",
       "4                    101 Walnut St     Green Lane    PA       18054   \n",
       "\n",
       "    latitude   longitude  stars  review_count  is_open  \\\n",
       "0  34.426679 -119.711197    5.0             7        0   \n",
       "1  38.551126  -90.335695    3.0            15        1   \n",
       "2  32.223236 -110.880452    3.5            22        0   \n",
       "3  39.955505  -75.155564    4.0            80        1   \n",
       "4  40.338183  -75.471659    4.5            13        1   \n",
       "\n",
       "                                          attributes  \\\n",
       "0  {'AcceptsInsurance': None, 'AgesAllowed': None...   \n",
       "1  {'AcceptsInsurance': None, 'AgesAllowed': None...   \n",
       "2  {'AcceptsInsurance': None, 'AgesAllowed': None...   \n",
       "3  {'AcceptsInsurance': None, 'AgesAllowed': None...   \n",
       "4  {'AcceptsInsurance': None, 'AgesAllowed': None...   \n",
       "\n",
       "                                          categories  \\\n",
       "0  Doctors, Traditional Chinese Medicine, Naturop...   \n",
       "1  Shipping Centers, Local Services, Notaries, Ma...   \n",
       "2  Department Stores, Shopping, Fashion, Home & G...   \n",
       "3  Restaurants, Food, Bubble Tea, Coffee & Tea, B...   \n",
       "4                          Brewpubs, Breweries, Food   \n",
       "\n",
       "                                               hours  \n",
       "0                                               None  \n",
       "1  {'Friday': '8:0-18:30', 'Monday': '0:0-0:0', '...  \n",
       "2  {'Friday': '8:0-23:0', 'Monday': '8:0-22:0', '...  \n",
       "3  {'Friday': '7:0-21:0', 'Monday': '7:0-20:0', '...  \n",
       "4  {'Friday': '12:0-22:0', 'Monday': None, 'Satur...  "
      ]
     },
     "execution_count": 3,
     "metadata": {},
     "output_type": "execute_result"
    }
   ],
   "source": [
    "business.head()"
   ]
  },
  {
   "cell_type": "code",
   "execution_count": 4,
   "id": "9ade3413-748a-4dcc-be43-b0d8bc5de5e2",
   "metadata": {
    "tags": []
   },
   "outputs": [
    {
     "data": {
      "text/plain": [
       "23223"
      ]
     },
     "execution_count": 4,
     "metadata": {},
     "output_type": "execute_result"
    }
   ],
   "source": [
    "business.hours.isna().sum()"
   ]
  },
  {
   "cell_type": "code",
   "execution_count": 6,
   "id": "8f7684cf-7da9-463d-8234-dd209426c2f5",
   "metadata": {
    "tags": []
   },
   "outputs": [
    {
     "data": {
      "text/plain": [
       "(150346, 14)"
      ]
     },
     "execution_count": 6,
     "metadata": {},
     "output_type": "execute_result"
    }
   ],
   "source": [
    "business.shape"
   ]
  },
  {
   "cell_type": "code",
   "execution_count": 4,
   "id": "8e652138-a14d-4ae9-aaec-54f249884373",
   "metadata": {
    "tags": []
   },
   "outputs": [
    {
     "data": {
      "text/html": [
       "<div>\n",
       "<style scoped>\n",
       "    .dataframe tbody tr th:only-of-type {\n",
       "        vertical-align: middle;\n",
       "    }\n",
       "\n",
       "    .dataframe tbody tr th {\n",
       "        vertical-align: top;\n",
       "    }\n",
       "\n",
       "    .dataframe thead th {\n",
       "        text-align: right;\n",
       "    }\n",
       "</style>\n",
       "<table border=\"1\" class=\"dataframe\">\n",
       "  <thead>\n",
       "    <tr style=\"text-align: right;\">\n",
       "      <th></th>\n",
       "      <th>Unnamed: 0</th>\n",
       "      <th>business_id</th>\n",
       "      <th>name</th>\n",
       "      <th>address</th>\n",
       "      <th>city</th>\n",
       "      <th>state</th>\n",
       "      <th>postal_code</th>\n",
       "      <th>latitude</th>\n",
       "      <th>longitude</th>\n",
       "      <th>stars</th>\n",
       "      <th>review_count</th>\n",
       "      <th>is_open</th>\n",
       "      <th>attributes</th>\n",
       "      <th>categories</th>\n",
       "      <th>hours</th>\n",
       "    </tr>\n",
       "  </thead>\n",
       "  <tbody>\n",
       "    <tr>\n",
       "      <th>0</th>\n",
       "      <td>0</td>\n",
       "      <td>Pns2l4eNsfO8kk83dixA6A</td>\n",
       "      <td>Abby Rappoport, LAC, CMQ</td>\n",
       "      <td>1616 Chapala St, Ste 2</td>\n",
       "      <td>Santa Barbara</td>\n",
       "      <td>CA</td>\n",
       "      <td>93101</td>\n",
       "      <td>34.426679</td>\n",
       "      <td>-119.711197</td>\n",
       "      <td>5.0</td>\n",
       "      <td>7</td>\n",
       "      <td>0</td>\n",
       "      <td>{'AcceptsInsurance': None, 'AgesAllowed': None...</td>\n",
       "      <td>Doctors, Traditional Chinese Medicine, Naturop...</td>\n",
       "      <td>Unknown</td>\n",
       "    </tr>\n",
       "    <tr>\n",
       "      <th>1</th>\n",
       "      <td>1</td>\n",
       "      <td>mpf3x-BjTdTEA3yCZrAYPw</td>\n",
       "      <td>The UPS Store</td>\n",
       "      <td>87 Grasso Plaza Shopping Center</td>\n",
       "      <td>Affton</td>\n",
       "      <td>MO</td>\n",
       "      <td>63123</td>\n",
       "      <td>38.551126</td>\n",
       "      <td>-90.335695</td>\n",
       "      <td>3.0</td>\n",
       "      <td>15</td>\n",
       "      <td>1</td>\n",
       "      <td>{'AcceptsInsurance': None, 'AgesAllowed': None...</td>\n",
       "      <td>Shipping Centers, Local Services, Notaries, Ma...</td>\n",
       "      <td>{'Friday': '8:0-18:30', 'Monday': '0:0-0:0', '...</td>\n",
       "    </tr>\n",
       "    <tr>\n",
       "      <th>2</th>\n",
       "      <td>2</td>\n",
       "      <td>tUFrWirKiKi_TAnsVWINQQ</td>\n",
       "      <td>Target</td>\n",
       "      <td>5255 E Broadway Blvd</td>\n",
       "      <td>Tucson</td>\n",
       "      <td>AZ</td>\n",
       "      <td>85711</td>\n",
       "      <td>32.223236</td>\n",
       "      <td>-110.880452</td>\n",
       "      <td>3.5</td>\n",
       "      <td>22</td>\n",
       "      <td>0</td>\n",
       "      <td>{'AcceptsInsurance': None, 'AgesAllowed': None...</td>\n",
       "      <td>Department Stores, Shopping, Fashion, Home &amp; G...</td>\n",
       "      <td>{'Friday': '8:0-23:0', 'Monday': '8:0-22:0', '...</td>\n",
       "    </tr>\n",
       "    <tr>\n",
       "      <th>3</th>\n",
       "      <td>3</td>\n",
       "      <td>MTSW4McQd7CbVtyjqoe9mw</td>\n",
       "      <td>St Honore Pastries</td>\n",
       "      <td>935 Race St</td>\n",
       "      <td>Philadelphia</td>\n",
       "      <td>PA</td>\n",
       "      <td>19107</td>\n",
       "      <td>39.955505</td>\n",
       "      <td>-75.155564</td>\n",
       "      <td>4.0</td>\n",
       "      <td>80</td>\n",
       "      <td>1</td>\n",
       "      <td>{'AcceptsInsurance': None, 'AgesAllowed': None...</td>\n",
       "      <td>Restaurants, Food, Bubble Tea, Coffee &amp; Tea, B...</td>\n",
       "      <td>{'Friday': '7:0-21:0', 'Monday': '7:0-20:0', '...</td>\n",
       "    </tr>\n",
       "    <tr>\n",
       "      <th>4</th>\n",
       "      <td>4</td>\n",
       "      <td>mWMc6_wTdE0EUBKIGXDVfA</td>\n",
       "      <td>Perkiomen Valley Brewery</td>\n",
       "      <td>101 Walnut St</td>\n",
       "      <td>Green Lane</td>\n",
       "      <td>PA</td>\n",
       "      <td>18054</td>\n",
       "      <td>40.338183</td>\n",
       "      <td>-75.471659</td>\n",
       "      <td>4.5</td>\n",
       "      <td>13</td>\n",
       "      <td>1</td>\n",
       "      <td>{'AcceptsInsurance': None, 'AgesAllowed': None...</td>\n",
       "      <td>Brewpubs, Breweries, Food</td>\n",
       "      <td>{'Friday': '12:0-22:0', 'Monday': None, 'Satur...</td>\n",
       "    </tr>\n",
       "  </tbody>\n",
       "</table>\n",
       "</div>"
      ],
      "text/plain": [
       "   Unnamed: 0             business_id                      name  \\\n",
       "0           0  Pns2l4eNsfO8kk83dixA6A  Abby Rappoport, LAC, CMQ   \n",
       "1           1  mpf3x-BjTdTEA3yCZrAYPw             The UPS Store   \n",
       "2           2  tUFrWirKiKi_TAnsVWINQQ                    Target   \n",
       "3           3  MTSW4McQd7CbVtyjqoe9mw        St Honore Pastries   \n",
       "4           4  mWMc6_wTdE0EUBKIGXDVfA  Perkiomen Valley Brewery   \n",
       "\n",
       "                           address           city state postal_code  \\\n",
       "0           1616 Chapala St, Ste 2  Santa Barbara    CA       93101   \n",
       "1  87 Grasso Plaza Shopping Center         Affton    MO       63123   \n",
       "2             5255 E Broadway Blvd         Tucson    AZ       85711   \n",
       "3                      935 Race St   Philadelphia    PA       19107   \n",
       "4                    101 Walnut St     Green Lane    PA       18054   \n",
       "\n",
       "    latitude   longitude  stars  review_count  is_open  \\\n",
       "0  34.426679 -119.711197    5.0             7        0   \n",
       "1  38.551126  -90.335695    3.0            15        1   \n",
       "2  32.223236 -110.880452    3.5            22        0   \n",
       "3  39.955505  -75.155564    4.0            80        1   \n",
       "4  40.338183  -75.471659    4.5            13        1   \n",
       "\n",
       "                                          attributes  \\\n",
       "0  {'AcceptsInsurance': None, 'AgesAllowed': None...   \n",
       "1  {'AcceptsInsurance': None, 'AgesAllowed': None...   \n",
       "2  {'AcceptsInsurance': None, 'AgesAllowed': None...   \n",
       "3  {'AcceptsInsurance': None, 'AgesAllowed': None...   \n",
       "4  {'AcceptsInsurance': None, 'AgesAllowed': None...   \n",
       "\n",
       "                                          categories  \\\n",
       "0  Doctors, Traditional Chinese Medicine, Naturop...   \n",
       "1  Shipping Centers, Local Services, Notaries, Ma...   \n",
       "2  Department Stores, Shopping, Fashion, Home & G...   \n",
       "3  Restaurants, Food, Bubble Tea, Coffee & Tea, B...   \n",
       "4                          Brewpubs, Breweries, Food   \n",
       "\n",
       "                                               hours  \n",
       "0                                            Unknown  \n",
       "1  {'Friday': '8:0-18:30', 'Monday': '0:0-0:0', '...  \n",
       "2  {'Friday': '8:0-23:0', 'Monday': '8:0-22:0', '...  \n",
       "3  {'Friday': '7:0-21:0', 'Monday': '7:0-20:0', '...  \n",
       "4  {'Friday': '12:0-22:0', 'Monday': None, 'Satur...  "
      ]
     },
     "execution_count": 4,
     "metadata": {},
     "output_type": "execute_result"
    }
   ],
   "source": [
    "business_clean = pd.read_csv(\"clean_business.csv\")\n",
    "business_clean.head()"
   ]
  },
  {
   "cell_type": "code",
   "execution_count": 6,
   "id": "9be5b950-dd5a-4176-b560-7255763e68c8",
   "metadata": {
    "tags": []
   },
   "outputs": [
    {
     "data": {
      "text/plain": [
       "0"
      ]
     },
     "execution_count": 6,
     "metadata": {},
     "output_type": "execute_result"
    }
   ],
   "source": [
    "business_clean.hours.isna().sum()"
   ]
  },
  {
   "cell_type": "code",
   "execution_count": 7,
   "id": "0287e0e7-3218-42b2-b012-f1787697b265",
   "metadata": {
    "tags": []
   },
   "outputs": [
    {
     "data": {
      "text/plain": [
       "(150243, 15)"
      ]
     },
     "execution_count": 7,
     "metadata": {},
     "output_type": "execute_result"
    }
   ],
   "source": [
    "business_clean.shape"
   ]
  },
  {
   "cell_type": "code",
   "execution_count": 30,
   "id": "857319b1-f360-415d-ba93-959f940dee86",
   "metadata": {
    "tags": []
   },
   "outputs": [
    {
     "name": "stdout",
     "output_type": "stream",
     "text": [
      "  business_id hours                                                                                                                                                                                     total_hours\n",
      "0  id1         {\"Monday\": \"10:00-21:00\", \"Tuesday\": \"10:00-21:00\", \"Friday\": \"10:00-21:00\", \"Wednesday\": \"10:00-21:00\", \"Thursday\": \"10:00-21:00\", \"Sunday\": \"11:00-18:00\", \"Saturday\": \"10:00-21:00\"}  73.0       \n",
      "1  id2                                                                                                                  {\"Monday\": \"10:00-18:00\", \"Wednesday\": \"12:00-20:00\", \"Friday\": \"14:00-22:00\"}  24.0       \n",
      "2  id3                                     {\"Friday\": \"12:0-22:0\", \"Monday\": null, \"Saturday\": \"12:0-22:0\", \"Sunday\": \"12:0-18:0\", \"Thursday\": \"16:0-22:0\", \"Tuesday\": null, \"Wednesday\": \"14:0-22:0\"}   NaN       \n",
      "3  id4                              {\"Friday\": \"12:0-2:0\", \"Monday\": \"16:0-0:0\", \"Saturday\": \"11:0-2:0\", \"Sunday\": \"11:0-0:0\", \"Thursday\": \"12:0-0:0\", \"Tuesday\": \"16:0-0:0\", \"Wednesday\": \"16:0-0:0\"}  78.0       \n"
     ]
    }
   ],
   "source": [
    "import pandas as pd\n",
    "import ast\n",
    "\n",
    "def calculate_total_hours(hours_str):\n",
    "    try:\n",
    "        hours_dict = ast.literal_eval(hours_str)\n",
    "        total_hours = 0\n",
    "        for day, time_range in hours_dict.items():\n",
    "            if time_range is None:\n",
    "                continue\n",
    "            \n",
    "            open_time, close_time = time_range.split('-')\n",
    "            open_hour, open_minute = map(int, open_time.split(':'))\n",
    "            close_hour, close_minute = map(int, close_time.split(':'))\n",
    "            \n",
    "            open_total = open_hour + open_minute / 60\n",
    "            close_total = close_hour + close_minute / 60\n",
    "            if close_total < open_total:\n",
    "                close_total += 24\n",
    "            \n",
    "            duration = close_total - open_total\n",
    "            total_hours += duration\n",
    "        return total_hours\n",
    "    except Exception as e:\n",
    "        return None\n",
    "\n",
    "data = {'Unnamed: 0': [0, 1, 2, 3], 'business_id': ['id1', 'id2', 'id3', 'id4'], 'hours': [\n",
    "    '{\"Monday\": \"10:00-21:00\", \"Tuesday\": \"10:00-21:00\", \"Friday\": \"10:00-21:00\", \"Wednesday\": \"10:00-21:00\", \"Thursday\": \"10:00-21:00\", \"Sunday\": \"11:00-18:00\", \"Saturday\": \"10:00-21:00\"}',\n",
    "    '{\"Monday\": \"10:00-18:00\", \"Wednesday\": \"12:00-20:00\", \"Friday\": \"14:00-22:00\"}',  # Example with missing days\n",
    "    '{\"Friday\": \"12:0-22:0\", \"Monday\": null, \"Saturday\": \"12:0-22:0\", \"Sunday\": \"12:0-18:0\", \"Thursday\": \"16:0-22:0\", \"Tuesday\": null, \"Wednesday\": \"14:0-22:0\"}',  # Example with None values\n",
    "    '{\"Friday\": \"12:0-2:0\", \"Monday\": \"16:0-0:0\", \"Saturday\": \"11:0-2:0\", \"Sunday\": \"11:0-0:0\", \"Thursday\": \"12:0-0:0\", \"Tuesday\": \"16:0-0:0\", \"Wednesday\": \"16:0-0:0\"}',  # Example with closing past midnight\n",
    "]}\n",
    "df = pd.DataFrame(data)\n",
    "\n",
    "if 'Unnamed: 0' in df.columns:\n",
    "    df = df.drop(columns=['Unnamed: 0'])\n",
    "\n",
    "df['total_hours'] = df['hours'].apply(calculate_total_hours)\n",
    "\n",
    "print(df)\n"
   ]
  },
  {
   "cell_type": "code",
   "execution_count": 32,
   "id": "5ede4785-bcbe-4130-b777-111f4de90505",
   "metadata": {
    "tags": []
   },
   "outputs": [
    {
     "data": {
      "text/plain": [
       "count    127123.000\n",
       "mean         56.834\n",
       "std          26.666\n",
       "min           0.000\n",
       "25%          41.000\n",
       "50%          56.000\n",
       "75%          73.000\n",
       "max         167.883\n",
       "Name: total_hours, dtype: float64"
      ]
     },
     "execution_count": 32,
     "metadata": {},
     "output_type": "execute_result"
    }
   ],
   "source": [
    "business_clean['total_hours'] = business_clean['hours'].apply(calculate_total_hours)\n",
    "\n",
    "business_clean.total_hours.describe()"
   ]
  },
  {
   "cell_type": "code",
   "execution_count": 14,
   "id": "83806772-f450-4429-b56d-4f4f67245479",
   "metadata": {
    "tags": []
   },
   "outputs": [
    {
     "data": {
      "text/html": [
       "<div>\n",
       "<style scoped>\n",
       "    .dataframe tbody tr th:only-of-type {\n",
       "        vertical-align: middle;\n",
       "    }\n",
       "\n",
       "    .dataframe tbody tr th {\n",
       "        vertical-align: top;\n",
       "    }\n",
       "\n",
       "    .dataframe thead th {\n",
       "        text-align: right;\n",
       "    }\n",
       "</style>\n",
       "<table border=\"1\" class=\"dataframe\">\n",
       "  <thead>\n",
       "    <tr style=\"text-align: left;\">\n",
       "      <th></th>\n",
       "      <th>Unnamed: 0</th>\n",
       "      <th>business_id</th>\n",
       "      <th>name</th>\n",
       "      <th>address</th>\n",
       "      <th>city</th>\n",
       "      <th>state</th>\n",
       "      <th>postal_code</th>\n",
       "      <th>latitude</th>\n",
       "      <th>longitude</th>\n",
       "      <th>stars</th>\n",
       "      <th>review_count</th>\n",
       "      <th>is_open</th>\n",
       "      <th>attributes</th>\n",
       "      <th>categories</th>\n",
       "      <th>hours</th>\n",
       "      <th>total_hours</th>\n",
       "    </tr>\n",
       "  </thead>\n",
       "  <tbody>\n",
       "    <tr>\n",
       "      <th>0</th>\n",
       "      <td>0</td>\n",
       "      <td>Pns2l4eNsfO8kk83dixA6A</td>\n",
       "      <td>Abby Rappoport, LAC, CMQ</td>\n",
       "      <td>1616 Chapala St, Ste 2</td>\n",
       "      <td>Santa Barbara</td>\n",
       "      <td>CA</td>\n",
       "      <td>93101</td>\n",
       "      <td>34.427</td>\n",
       "      <td>-119.711</td>\n",
       "      <td>5.0</td>\n",
       "      <td>7</td>\n",
       "      <td>0</td>\n",
       "      <td>{'AcceptsInsurance': None, 'AgesAllowed': None...</td>\n",
       "      <td>Doctors, Traditional Chinese Medicine, Naturop...</td>\n",
       "      <td>Unknown</td>\n",
       "      <td>NaN</td>\n",
       "    </tr>\n",
       "    <tr>\n",
       "      <th>1</th>\n",
       "      <td>1</td>\n",
       "      <td>mpf3x-BjTdTEA3yCZrAYPw</td>\n",
       "      <td>The UPS Store</td>\n",
       "      <td>87 Grasso Plaza Shopping Center</td>\n",
       "      <td>Affton</td>\n",
       "      <td>MO</td>\n",
       "      <td>63123</td>\n",
       "      <td>38.551</td>\n",
       "      <td>-90.336</td>\n",
       "      <td>3.0</td>\n",
       "      <td>15</td>\n",
       "      <td>1</td>\n",
       "      <td>{'AcceptsInsurance': None, 'AgesAllowed': None...</td>\n",
       "      <td>Shipping Centers, Local Services, Notaries, Ma...</td>\n",
       "      <td>{'Friday': '8:0-18:30', 'Monday': '0:0-0:0', '...</td>\n",
       "      <td>NaN</td>\n",
       "    </tr>\n",
       "    <tr>\n",
       "      <th>2</th>\n",
       "      <td>2</td>\n",
       "      <td>tUFrWirKiKi_TAnsVWINQQ</td>\n",
       "      <td>Target</td>\n",
       "      <td>5255 E Broadway Blvd</td>\n",
       "      <td>Tucson</td>\n",
       "      <td>AZ</td>\n",
       "      <td>85711</td>\n",
       "      <td>32.223</td>\n",
       "      <td>-110.880</td>\n",
       "      <td>3.5</td>\n",
       "      <td>22</td>\n",
       "      <td>0</td>\n",
       "      <td>{'AcceptsInsurance': None, 'AgesAllowed': None...</td>\n",
       "      <td>Department Stores, Shopping, Fashion, Home &amp; G...</td>\n",
       "      <td>{'Friday': '8:0-23:0', 'Monday': '8:0-22:0', '...</td>\n",
       "      <td>100.0</td>\n",
       "    </tr>\n",
       "    <tr>\n",
       "      <th>3</th>\n",
       "      <td>3</td>\n",
       "      <td>MTSW4McQd7CbVtyjqoe9mw</td>\n",
       "      <td>St Honore Pastries</td>\n",
       "      <td>935 Race St</td>\n",
       "      <td>Philadelphia</td>\n",
       "      <td>PA</td>\n",
       "      <td>19107</td>\n",
       "      <td>39.956</td>\n",
       "      <td>-75.156</td>\n",
       "      <td>4.0</td>\n",
       "      <td>80</td>\n",
       "      <td>1</td>\n",
       "      <td>{'AcceptsInsurance': None, 'AgesAllowed': None...</td>\n",
       "      <td>Restaurants, Food, Bubble Tea, Coffee &amp; Tea, B...</td>\n",
       "      <td>{'Friday': '7:0-21:0', 'Monday': '7:0-20:0', '...</td>\n",
       "      <td>94.0</td>\n",
       "    </tr>\n",
       "    <tr>\n",
       "      <th>4</th>\n",
       "      <td>4</td>\n",
       "      <td>mWMc6_wTdE0EUBKIGXDVfA</td>\n",
       "      <td>Perkiomen Valley Brewery</td>\n",
       "      <td>101 Walnut St</td>\n",
       "      <td>Green Lane</td>\n",
       "      <td>PA</td>\n",
       "      <td>18054</td>\n",
       "      <td>40.338</td>\n",
       "      <td>-75.472</td>\n",
       "      <td>4.5</td>\n",
       "      <td>13</td>\n",
       "      <td>1</td>\n",
       "      <td>{'AcceptsInsurance': None, 'AgesAllowed': None...</td>\n",
       "      <td>Brewpubs, Breweries, Food</td>\n",
       "      <td>{'Friday': '12:0-22:0', 'Monday': None, 'Satur...</td>\n",
       "      <td>NaN</td>\n",
       "    </tr>\n",
       "  </tbody>\n",
       "</table>\n",
       "</div>"
      ],
      "text/plain": [
       "   Unnamed: 0 business_id             name                      address                          city           state postal_code  latitude  longitude  stars  review_count  is_open attributes                                         categories                                         hours                                               total_hours\n",
       "0  0           Pns2l4eNsfO8kk83dixA6A  Abby Rappoport, LAC, CMQ           1616 Chapala St, Ste 2  Santa Barbara  CA    93101       34.427   -119.711    5.0     7            0        {'AcceptsInsurance': None, 'AgesAllowed': None...  Doctors, Traditional Chinese Medicine, Naturop...                                            Unknown    NaN      \n",
       "1  1           mpf3x-BjTdTEA3yCZrAYPw             The UPS Store  87 Grasso Plaza Shopping Center         Affton  MO    63123       38.551    -90.336    3.0    15            1        {'AcceptsInsurance': None, 'AgesAllowed': None...  Shipping Centers, Local Services, Notaries, Ma...  {'Friday': '8:0-18:30', 'Monday': '0:0-0:0', '...    NaN      \n",
       "2  2           tUFrWirKiKi_TAnsVWINQQ                    Target             5255 E Broadway Blvd         Tucson  AZ    85711       32.223   -110.880    3.5    22            0        {'AcceptsInsurance': None, 'AgesAllowed': None...  Department Stores, Shopping, Fashion, Home & G...  {'Friday': '8:0-23:0', 'Monday': '8:0-22:0', '...  100.0      \n",
       "3  3           MTSW4McQd7CbVtyjqoe9mw        St Honore Pastries                      935 Race St   Philadelphia  PA    19107       39.956    -75.156    4.0    80            1        {'AcceptsInsurance': None, 'AgesAllowed': None...  Restaurants, Food, Bubble Tea, Coffee & Tea, B...  {'Friday': '7:0-21:0', 'Monday': '7:0-20:0', '...   94.0      \n",
       "4  4           mWMc6_wTdE0EUBKIGXDVfA  Perkiomen Valley Brewery                    101 Walnut St     Green Lane  PA    18054       40.338    -75.472    4.5    13            1        {'AcceptsInsurance': None, 'AgesAllowed': None...                          Brewpubs, Breweries, Food  {'Friday': '12:0-22:0', 'Monday': None, 'Satur...    NaN      "
      ]
     },
     "execution_count": 14,
     "metadata": {},
     "output_type": "execute_result"
    }
   ],
   "source": [
    "pd.set_option('display.max_rows', None)\n",
    "pd.set_option('display.max_columns', None)\n",
    "pd.set_option('display.width', 999)\n",
    "pd.set_option('display.colheader_justify', 'left')\n",
    "pd.set_option('display.precision', 3)\n",
    "business_clean.head()"
   ]
  },
  {
   "cell_type": "code",
   "execution_count": 33,
   "id": "e9d571a8-5afc-49a1-a70b-177af6585dfc",
   "metadata": {
    "tags": []
   },
   "outputs": [
    {
     "data": {
      "text/plain": [
       "23120"
      ]
     },
     "execution_count": 33,
     "metadata": {},
     "output_type": "execute_result"
    }
   ],
   "source": [
    "business_clean.total_hours.isna().sum()"
   ]
  },
  {
   "cell_type": "code",
   "execution_count": 34,
   "id": "f802237b-2eef-4bb2-92bc-c33ac88b85cd",
   "metadata": {
    "tags": []
   },
   "outputs": [
    {
     "data": {
      "text/plain": [
       "count    127123.000\n",
       "mean         56.834\n",
       "std          26.666\n",
       "min           0.000\n",
       "25%          41.000\n",
       "50%          56.000\n",
       "75%          73.000\n",
       "max         167.883\n",
       "Name: total_hours, dtype: float64"
      ]
     },
     "execution_count": 34,
     "metadata": {},
     "output_type": "execute_result"
    }
   ],
   "source": [
    "business_clean.total_hours.describe()"
   ]
  },
  {
   "cell_type": "code",
   "execution_count": 17,
   "id": "69395ea9-a063-4cd8-a2e0-759118431a05",
   "metadata": {
    "tags": []
   },
   "outputs": [
    {
     "name": "stdout",
     "output_type": "stream",
     "text": [
      "4    {'Friday': '12:0-22:0', 'Monday': None, 'Saturday': '12:0-22:0', 'Sunday': '12:0-18:0', 'Thursday': '16:0-22:0', 'Tuesday': None, 'Wednesday': '14:0-22:0'}\n",
      "Name: hours, dtype: object\n"
     ]
    }
   ],
   "source": [
    "pd.set_option('display.max_colwidth', None)\n",
    "\n",
    "print(business_clean[business_clean[\"business_id\"] == \"mWMc6_wTdE0EUBKIGXDVfA\"].hours)"
   ]
  },
  {
   "cell_type": "code",
   "execution_count": 35,
   "id": "02f959e3-148c-4dd2-8ff0-2dafe8070107",
   "metadata": {
    "tags": []
   },
   "outputs": [],
   "source": [
    "b = business_clean.drop(business_clean.columns[0], axis=1)"
   ]
  },
  {
   "cell_type": "code",
   "execution_count": 59,
   "id": "d9f06b08-40d0-4844-82c7-54b6ab34fb21",
   "metadata": {
    "tags": []
   },
   "outputs": [
    {
     "data": {
      "text/html": [
       "<div>\n",
       "<style scoped>\n",
       "    .dataframe tbody tr th:only-of-type {\n",
       "        vertical-align: middle;\n",
       "    }\n",
       "\n",
       "    .dataframe tbody tr th {\n",
       "        vertical-align: top;\n",
       "    }\n",
       "\n",
       "    .dataframe thead th {\n",
       "        text-align: right;\n",
       "    }\n",
       "</style>\n",
       "<table border=\"1\" class=\"dataframe\">\n",
       "  <thead>\n",
       "    <tr style=\"text-align: left;\">\n",
       "      <th></th>\n",
       "      <th>business_id</th>\n",
       "      <th>name</th>\n",
       "      <th>address</th>\n",
       "      <th>city</th>\n",
       "      <th>state</th>\n",
       "      <th>postal_code</th>\n",
       "      <th>latitude</th>\n",
       "      <th>longitude</th>\n",
       "      <th>stars</th>\n",
       "      <th>review_count</th>\n",
       "      <th>is_open</th>\n",
       "      <th>attributes</th>\n",
       "      <th>categories</th>\n",
       "      <th>hours</th>\n",
       "      <th>total_hours</th>\n",
       "    </tr>\n",
       "  </thead>\n",
       "  <tbody>\n",
       "    <tr>\n",
       "      <th>0</th>\n",
       "      <td>Pns2l4eNsfO8kk83dixA6A</td>\n",
       "      <td>Abby Rappoport, LAC, CMQ</td>\n",
       "      <td>1616 Chapala St, Ste 2</td>\n",
       "      <td>Santa Barbara</td>\n",
       "      <td>CA</td>\n",
       "      <td>93101</td>\n",
       "      <td>34.427</td>\n",
       "      <td>-119.711</td>\n",
       "      <td>5.0</td>\n",
       "      <td>7</td>\n",
       "      <td>0</td>\n",
       "      <td>{'AcceptsInsurance': None, 'AgesAllowed': None, 'Alcohol': None, 'Ambience': None, 'BYOB': None, 'BYOBCorkage': None, 'BestNights': None, 'BikeParking': None, 'BusinessAcceptsBitcoin': None, 'BusinessAcceptsCreditCards': None, 'BusinessParking': None, 'ByAppointmentOnly': 'True', 'Caters': None, 'CoatCheck': None, 'Corkage': None, 'DietaryRestrictions': None, 'DogsAllowed': None, 'DriveThru': None, 'GoodForDancing': None, 'GoodForKids': None, 'GoodForMeal': None, 'HairSpecializesIn': None, 'HappyHour': None, 'HasTV': None, 'Music': None, 'NoiseLevel': None, 'Open24Hours': None, 'OutdoorSeating': None, 'RestaurantsAttire': None, 'RestaurantsCounterService': None, 'RestaurantsDelivery': None, 'RestaurantsGoodForGroups': None, 'RestaurantsPriceRange2': None, 'RestaurantsReservations': None, 'RestaurantsTableService': None, 'RestaurantsTakeOut': None, 'Smoking': None, 'WheelchairAccessible': None, 'WiFi': None}</td>\n",
       "      <td>Doctors, Traditional Chinese Medicine, Naturopathic/Holistic, Acupuncture, Health &amp; Medical, Nutritionists</td>\n",
       "      <td>Unknown</td>\n",
       "      <td>NaN</td>\n",
       "    </tr>\n",
       "    <tr>\n",
       "      <th>1</th>\n",
       "      <td>mpf3x-BjTdTEA3yCZrAYPw</td>\n",
       "      <td>The UPS Store</td>\n",
       "      <td>87 Grasso Plaza Shopping Center</td>\n",
       "      <td>Affton</td>\n",
       "      <td>MO</td>\n",
       "      <td>63123</td>\n",
       "      <td>38.551</td>\n",
       "      <td>-90.336</td>\n",
       "      <td>3.0</td>\n",
       "      <td>15</td>\n",
       "      <td>1</td>\n",
       "      <td>{'AcceptsInsurance': None, 'AgesAllowed': None, 'Alcohol': None, 'Ambience': None, 'BYOB': None, 'BYOBCorkage': None, 'BestNights': None, 'BikeParking': None, 'BusinessAcceptsBitcoin': None, 'BusinessAcceptsCreditCards': 'True', 'BusinessParking': None, 'ByAppointmentOnly': None, 'Caters': None, 'CoatCheck': None, 'Corkage': None, 'DietaryRestrictions': None, 'DogsAllowed': None, 'DriveThru': None, 'GoodForDancing': None, 'GoodForKids': None, 'GoodForMeal': None, 'HairSpecializesIn': None, 'HappyHour': None, 'HasTV': None, 'Music': None, 'NoiseLevel': None, 'Open24Hours': None, 'OutdoorSeating': None, 'RestaurantsAttire': None, 'RestaurantsCounterService': None, 'RestaurantsDelivery': None, 'RestaurantsGoodForGroups': None, 'RestaurantsPriceRange2': None, 'RestaurantsReservations': None, 'RestaurantsTableService': None, 'RestaurantsTakeOut': None, 'Smoking': None, 'WheelchairAccessible': None, 'WiFi': None}</td>\n",
       "      <td>Shipping Centers, Local Services, Notaries, Mailbox Centers, Printing Services</td>\n",
       "      <td>{'Friday': '8:0-18:30', 'Monday': '0:0-0:0', 'Saturday': '8:0-14:0', 'Sunday': None, 'Thursday': '8:0-18:30', 'Tuesday': '8:0-18:30', 'Wednesday': '8:0-18:30'}</td>\n",
       "      <td>48.0</td>\n",
       "    </tr>\n",
       "    <tr>\n",
       "      <th>2</th>\n",
       "      <td>tUFrWirKiKi_TAnsVWINQQ</td>\n",
       "      <td>Target</td>\n",
       "      <td>5255 E Broadway Blvd</td>\n",
       "      <td>Tucson</td>\n",
       "      <td>AZ</td>\n",
       "      <td>85711</td>\n",
       "      <td>32.223</td>\n",
       "      <td>-110.880</td>\n",
       "      <td>3.5</td>\n",
       "      <td>22</td>\n",
       "      <td>0</td>\n",
       "      <td>{'AcceptsInsurance': None, 'AgesAllowed': None, 'Alcohol': None, 'Ambience': None, 'BYOB': None, 'BYOBCorkage': None, 'BestNights': None, 'BikeParking': 'True', 'BusinessAcceptsBitcoin': None, 'BusinessAcceptsCreditCards': 'True', 'BusinessParking': \"{'garage': False, 'street': False, 'validated': False, 'lot': True, 'valet': False}\", 'ByAppointmentOnly': 'False', 'Caters': 'False', 'CoatCheck': 'False', 'Corkage': None, 'DietaryRestrictions': None, 'DogsAllowed': 'False', 'DriveThru': None, 'GoodForDancing': None, 'GoodForKids': None, 'GoodForMeal': None, 'HairSpecializesIn': None, 'HappyHour': 'False', 'HasTV': 'False', 'Music': None, 'NoiseLevel': None, 'Open24Hours': None, 'OutdoorSeating': 'False', 'RestaurantsAttire': None, 'RestaurantsCounterService': None, 'RestaurantsDelivery': 'False', 'RestaurantsGoodForGroups': None, 'RestaurantsPriceRange2': '2', 'RestaurantsReservations': 'False', 'RestaurantsTableService': None, 'RestaurantsTakeOut': 'False', 'Smoking': None, 'WheelchairAccessible': 'True', 'WiFi': \"u'no'\"}</td>\n",
       "      <td>Department Stores, Shopping, Fashion, Home &amp; Garden, Electronics, Furniture Stores</td>\n",
       "      <td>{'Friday': '8:0-23:0', 'Monday': '8:0-22:0', 'Saturday': '8:0-23:0', 'Sunday': '8:0-22:0', 'Thursday': '8:0-22:0', 'Tuesday': '8:0-22:0', 'Wednesday': '8:0-22:0'}</td>\n",
       "      <td>100.0</td>\n",
       "    </tr>\n",
       "    <tr>\n",
       "      <th>3</th>\n",
       "      <td>MTSW4McQd7CbVtyjqoe9mw</td>\n",
       "      <td>St Honore Pastries</td>\n",
       "      <td>935 Race St</td>\n",
       "      <td>Philadelphia</td>\n",
       "      <td>PA</td>\n",
       "      <td>19107</td>\n",
       "      <td>39.956</td>\n",
       "      <td>-75.156</td>\n",
       "      <td>4.0</td>\n",
       "      <td>80</td>\n",
       "      <td>1</td>\n",
       "      <td>{'AcceptsInsurance': None, 'AgesAllowed': None, 'Alcohol': \"u'none'\", 'Ambience': None, 'BYOB': None, 'BYOBCorkage': None, 'BestNights': None, 'BikeParking': 'True', 'BusinessAcceptsBitcoin': None, 'BusinessAcceptsCreditCards': 'False', 'BusinessParking': \"{'garage': False, 'street': True, 'validated': False, 'lot': False, 'valet': False}\", 'ByAppointmentOnly': 'False', 'Caters': 'True', 'CoatCheck': None, 'Corkage': None, 'DietaryRestrictions': None, 'DogsAllowed': None, 'DriveThru': None, 'GoodForDancing': None, 'GoodForKids': None, 'GoodForMeal': None, 'HairSpecializesIn': None, 'HappyHour': None, 'HasTV': None, 'Music': None, 'NoiseLevel': None, 'Open24Hours': None, 'OutdoorSeating': 'False', 'RestaurantsAttire': None, 'RestaurantsCounterService': None, 'RestaurantsDelivery': 'False', 'RestaurantsGoodForGroups': None, 'RestaurantsPriceRange2': '1', 'RestaurantsReservations': None, 'RestaurantsTableService': None, 'RestaurantsTakeOut': 'True', 'Smoking': None, 'WheelchairAccessible': None, 'WiFi': \"u'free'\"}</td>\n",
       "      <td>Restaurants, Food, Bubble Tea, Coffee &amp; Tea, Bakeries</td>\n",
       "      <td>{'Friday': '7:0-21:0', 'Monday': '7:0-20:0', 'Saturday': '7:0-21:0', 'Sunday': '7:0-21:0', 'Thursday': '7:0-20:0', 'Tuesday': '7:0-20:0', 'Wednesday': '7:0-20:0'}</td>\n",
       "      <td>94.0</td>\n",
       "    </tr>\n",
       "    <tr>\n",
       "      <th>4</th>\n",
       "      <td>mWMc6_wTdE0EUBKIGXDVfA</td>\n",
       "      <td>Perkiomen Valley Brewery</td>\n",
       "      <td>101 Walnut St</td>\n",
       "      <td>Green Lane</td>\n",
       "      <td>PA</td>\n",
       "      <td>18054</td>\n",
       "      <td>40.338</td>\n",
       "      <td>-75.472</td>\n",
       "      <td>4.5</td>\n",
       "      <td>13</td>\n",
       "      <td>1</td>\n",
       "      <td>{'AcceptsInsurance': None, 'AgesAllowed': None, 'Alcohol': None, 'Ambience': None, 'BYOB': None, 'BYOBCorkage': None, 'BestNights': None, 'BikeParking': 'True', 'BusinessAcceptsBitcoin': None, 'BusinessAcceptsCreditCards': 'True', 'BusinessParking': \"{'garage': None, 'street': None, 'validated': None, 'lot': True, 'valet': False}\", 'ByAppointmentOnly': None, 'Caters': 'False', 'CoatCheck': None, 'Corkage': None, 'DietaryRestrictions': None, 'DogsAllowed': None, 'DriveThru': None, 'GoodForDancing': None, 'GoodForKids': 'True', 'GoodForMeal': None, 'HairSpecializesIn': None, 'HappyHour': None, 'HasTV': None, 'Music': None, 'NoiseLevel': None, 'Open24Hours': None, 'OutdoorSeating': None, 'RestaurantsAttire': None, 'RestaurantsCounterService': None, 'RestaurantsDelivery': None, 'RestaurantsGoodForGroups': None, 'RestaurantsPriceRange2': None, 'RestaurantsReservations': None, 'RestaurantsTableService': None, 'RestaurantsTakeOut': 'True', 'Smoking': None, 'WheelchairAccessible': 'True', 'WiFi': None}</td>\n",
       "      <td>Brewpubs, Breweries, Food</td>\n",
       "      <td>{'Friday': '12:0-22:0', 'Monday': None, 'Saturday': '12:0-22:0', 'Sunday': '12:0-18:0', 'Thursday': '16:0-22:0', 'Tuesday': None, 'Wednesday': '14:0-22:0'}</td>\n",
       "      <td>40.0</td>\n",
       "    </tr>\n",
       "  </tbody>\n",
       "</table>\n",
       "</div>"
      ],
      "text/plain": [
       "  business_id             name                      address                          city           state postal_code  latitude  longitude  stars  review_count  is_open  \\\n",
       "0  Pns2l4eNsfO8kk83dixA6A  Abby Rappoport, LAC, CMQ           1616 Chapala St, Ste 2  Santa Barbara  CA    93101       34.427   -119.711    5.0     7            0         \n",
       "1  mpf3x-BjTdTEA3yCZrAYPw             The UPS Store  87 Grasso Plaza Shopping Center         Affton  MO    63123       38.551    -90.336    3.0    15            1         \n",
       "2  tUFrWirKiKi_TAnsVWINQQ                    Target             5255 E Broadway Blvd         Tucson  AZ    85711       32.223   -110.880    3.5    22            0         \n",
       "3  MTSW4McQd7CbVtyjqoe9mw        St Honore Pastries                      935 Race St   Philadelphia  PA    19107       39.956    -75.156    4.0    80            1         \n",
       "4  mWMc6_wTdE0EUBKIGXDVfA  Perkiomen Valley Brewery                    101 Walnut St     Green Lane  PA    18054       40.338    -75.472    4.5    13            1         \n",
       "\n",
       "  attributes                                                                                                                                                                                                                                                                                                                                                                                                                                                                                                                                                                                                                                                                                                                                                                                                                                                                                                                                                                                                                                                                      \\\n",
       "0                                                                                                                       {'AcceptsInsurance': None, 'AgesAllowed': None, 'Alcohol': None, 'Ambience': None, 'BYOB': None, 'BYOBCorkage': None, 'BestNights': None, 'BikeParking': None, 'BusinessAcceptsBitcoin': None, 'BusinessAcceptsCreditCards': None, 'BusinessParking': None, 'ByAppointmentOnly': 'True', 'Caters': None, 'CoatCheck': None, 'Corkage': None, 'DietaryRestrictions': None, 'DogsAllowed': None, 'DriveThru': None, 'GoodForDancing': None, 'GoodForKids': None, 'GoodForMeal': None, 'HairSpecializesIn': None, 'HappyHour': None, 'HasTV': None, 'Music': None, 'NoiseLevel': None, 'Open24Hours': None, 'OutdoorSeating': None, 'RestaurantsAttire': None, 'RestaurantsCounterService': None, 'RestaurantsDelivery': None, 'RestaurantsGoodForGroups': None, 'RestaurantsPriceRange2': None, 'RestaurantsReservations': None, 'RestaurantsTableService': None, 'RestaurantsTakeOut': None, 'Smoking': None, 'WheelchairAccessible': None, 'WiFi': None}   \n",
       "1                                                                                                                       {'AcceptsInsurance': None, 'AgesAllowed': None, 'Alcohol': None, 'Ambience': None, 'BYOB': None, 'BYOBCorkage': None, 'BestNights': None, 'BikeParking': None, 'BusinessAcceptsBitcoin': None, 'BusinessAcceptsCreditCards': 'True', 'BusinessParking': None, 'ByAppointmentOnly': None, 'Caters': None, 'CoatCheck': None, 'Corkage': None, 'DietaryRestrictions': None, 'DogsAllowed': None, 'DriveThru': None, 'GoodForDancing': None, 'GoodForKids': None, 'GoodForMeal': None, 'HairSpecializesIn': None, 'HappyHour': None, 'HasTV': None, 'Music': None, 'NoiseLevel': None, 'Open24Hours': None, 'OutdoorSeating': None, 'RestaurantsAttire': None, 'RestaurantsCounterService': None, 'RestaurantsDelivery': None, 'RestaurantsGoodForGroups': None, 'RestaurantsPriceRange2': None, 'RestaurantsReservations': None, 'RestaurantsTableService': None, 'RestaurantsTakeOut': None, 'Smoking': None, 'WheelchairAccessible': None, 'WiFi': None}   \n",
       "2  {'AcceptsInsurance': None, 'AgesAllowed': None, 'Alcohol': None, 'Ambience': None, 'BYOB': None, 'BYOBCorkage': None, 'BestNights': None, 'BikeParking': 'True', 'BusinessAcceptsBitcoin': None, 'BusinessAcceptsCreditCards': 'True', 'BusinessParking': \"{'garage': False, 'street': False, 'validated': False, 'lot': True, 'valet': False}\", 'ByAppointmentOnly': 'False', 'Caters': 'False', 'CoatCheck': 'False', 'Corkage': None, 'DietaryRestrictions': None, 'DogsAllowed': 'False', 'DriveThru': None, 'GoodForDancing': None, 'GoodForKids': None, 'GoodForMeal': None, 'HairSpecializesIn': None, 'HappyHour': 'False', 'HasTV': 'False', 'Music': None, 'NoiseLevel': None, 'Open24Hours': None, 'OutdoorSeating': 'False', 'RestaurantsAttire': None, 'RestaurantsCounterService': None, 'RestaurantsDelivery': 'False', 'RestaurantsGoodForGroups': None, 'RestaurantsPriceRange2': '2', 'RestaurantsReservations': 'False', 'RestaurantsTableService': None, 'RestaurantsTakeOut': 'False', 'Smoking': None, 'WheelchairAccessible': 'True', 'WiFi': \"u'no'\"}   \n",
       "3             {'AcceptsInsurance': None, 'AgesAllowed': None, 'Alcohol': \"u'none'\", 'Ambience': None, 'BYOB': None, 'BYOBCorkage': None, 'BestNights': None, 'BikeParking': 'True', 'BusinessAcceptsBitcoin': None, 'BusinessAcceptsCreditCards': 'False', 'BusinessParking': \"{'garage': False, 'street': True, 'validated': False, 'lot': False, 'valet': False}\", 'ByAppointmentOnly': 'False', 'Caters': 'True', 'CoatCheck': None, 'Corkage': None, 'DietaryRestrictions': None, 'DogsAllowed': None, 'DriveThru': None, 'GoodForDancing': None, 'GoodForKids': None, 'GoodForMeal': None, 'HairSpecializesIn': None, 'HappyHour': None, 'HasTV': None, 'Music': None, 'NoiseLevel': None, 'Open24Hours': None, 'OutdoorSeating': 'False', 'RestaurantsAttire': None, 'RestaurantsCounterService': None, 'RestaurantsDelivery': 'False', 'RestaurantsGoodForGroups': None, 'RestaurantsPriceRange2': '1', 'RestaurantsReservations': None, 'RestaurantsTableService': None, 'RestaurantsTakeOut': 'True', 'Smoking': None, 'WheelchairAccessible': None, 'WiFi': \"u'free'\"}   \n",
       "4                              {'AcceptsInsurance': None, 'AgesAllowed': None, 'Alcohol': None, 'Ambience': None, 'BYOB': None, 'BYOBCorkage': None, 'BestNights': None, 'BikeParking': 'True', 'BusinessAcceptsBitcoin': None, 'BusinessAcceptsCreditCards': 'True', 'BusinessParking': \"{'garage': None, 'street': None, 'validated': None, 'lot': True, 'valet': False}\", 'ByAppointmentOnly': None, 'Caters': 'False', 'CoatCheck': None, 'Corkage': None, 'DietaryRestrictions': None, 'DogsAllowed': None, 'DriveThru': None, 'GoodForDancing': None, 'GoodForKids': 'True', 'GoodForMeal': None, 'HairSpecializesIn': None, 'HappyHour': None, 'HasTV': None, 'Music': None, 'NoiseLevel': None, 'Open24Hours': None, 'OutdoorSeating': None, 'RestaurantsAttire': None, 'RestaurantsCounterService': None, 'RestaurantsDelivery': None, 'RestaurantsGoodForGroups': None, 'RestaurantsPriceRange2': None, 'RestaurantsReservations': None, 'RestaurantsTableService': None, 'RestaurantsTakeOut': 'True', 'Smoking': None, 'WheelchairAccessible': 'True', 'WiFi': None}   \n",
       "\n",
       "  categories                                                                                                  hours                                                                                                                                                                total_hours  \n",
       "0  Doctors, Traditional Chinese Medicine, Naturopathic/Holistic, Acupuncture, Health & Medical, Nutritionists                                                                                                                                                             Unknown    NaN        \n",
       "1                              Shipping Centers, Local Services, Notaries, Mailbox Centers, Printing Services     {'Friday': '8:0-18:30', 'Monday': '0:0-0:0', 'Saturday': '8:0-14:0', 'Sunday': None, 'Thursday': '8:0-18:30', 'Tuesday': '8:0-18:30', 'Wednesday': '8:0-18:30'}   48.0        \n",
       "2                          Department Stores, Shopping, Fashion, Home & Garden, Electronics, Furniture Stores  {'Friday': '8:0-23:0', 'Monday': '8:0-22:0', 'Saturday': '8:0-23:0', 'Sunday': '8:0-22:0', 'Thursday': '8:0-22:0', 'Tuesday': '8:0-22:0', 'Wednesday': '8:0-22:0'}  100.0        \n",
       "3                                                       Restaurants, Food, Bubble Tea, Coffee & Tea, Bakeries  {'Friday': '7:0-21:0', 'Monday': '7:0-20:0', 'Saturday': '7:0-21:0', 'Sunday': '7:0-21:0', 'Thursday': '7:0-20:0', 'Tuesday': '7:0-20:0', 'Wednesday': '7:0-20:0'}   94.0        \n",
       "4                                                                                   Brewpubs, Breweries, Food         {'Friday': '12:0-22:0', 'Monday': None, 'Saturday': '12:0-22:0', 'Sunday': '12:0-18:0', 'Thursday': '16:0-22:0', 'Tuesday': None, 'Wednesday': '14:0-22:0'}   40.0        "
      ]
     },
     "execution_count": 59,
     "metadata": {},
     "output_type": "execute_result"
    }
   ],
   "source": [
    "b.head()"
   ]
  },
  {
   "cell_type": "code",
   "execution_count": null,
   "id": "2dbf8a00-6010-469e-b7cc-342997a24862",
   "metadata": {},
   "outputs": [],
   "source": []
  },
  {
   "cell_type": "code",
   "execution_count": 29,
   "id": "72a5290b-af05-44a0-8289-9ca26f664151",
   "metadata": {
    "tags": []
   },
   "outputs": [
    {
     "data": {
      "text/html": [
       "<div>\n",
       "<style scoped>\n",
       "    .dataframe tbody tr th:only-of-type {\n",
       "        vertical-align: middle;\n",
       "    }\n",
       "\n",
       "    .dataframe tbody tr th {\n",
       "        vertical-align: top;\n",
       "    }\n",
       "\n",
       "    .dataframe thead th {\n",
       "        text-align: right;\n",
       "    }\n",
       "</style>\n",
       "<table border=\"1\" class=\"dataframe\">\n",
       "  <thead>\n",
       "    <tr style=\"text-align: left;\">\n",
       "      <th></th>\n",
       "      <th>business_id</th>\n",
       "      <th>name</th>\n",
       "      <th>address</th>\n",
       "      <th>city</th>\n",
       "      <th>state</th>\n",
       "      <th>postal_code</th>\n",
       "      <th>latitude</th>\n",
       "      <th>longitude</th>\n",
       "      <th>stars</th>\n",
       "      <th>review_count</th>\n",
       "      <th>is_open</th>\n",
       "      <th>attributes</th>\n",
       "      <th>categories</th>\n",
       "      <th>hours</th>\n",
       "      <th>total_hours</th>\n",
       "    </tr>\n",
       "  </thead>\n",
       "  <tbody>\n",
       "    <tr>\n",
       "      <th>28</th>\n",
       "      <td>QdN72BWoyFypdGJhhI5r7g</td>\n",
       "      <td>Bar One</td>\n",
       "      <td>767 S 9th St</td>\n",
       "      <td>Philadelphia</td>\n",
       "      <td>PA</td>\n",
       "      <td>19147</td>\n",
       "      <td>39.940</td>\n",
       "      <td>-75.157</td>\n",
       "      <td>4.0</td>\n",
       "      <td>65</td>\n",
       "      <td>0</td>\n",
       "      <td>{'AcceptsInsurance': None, 'AgesAllowed': None, 'Alcohol': \"u'full_bar'\", 'Ambience': \"{'touristy': False, 'hipster': True, 'romantic': None, 'divey': False, 'intimate': False, 'trendy': None, 'upscale': False, 'classy': None, 'casual': True}\", 'BYOB': None, 'BYOBCorkage': None, 'BestNights': None, 'BikeParking': 'True', 'BusinessAcceptsBitcoin': None, 'BusinessAcceptsCreditCards': 'True', 'BusinessParking': \"{'garage': None, 'street': True, 'validated': None, 'lot': False, 'valet': False}\", 'ByAppointmentOnly': None, 'Caters': 'False', 'CoatCheck': None, 'Corkage': None, 'DietaryRestrictions': None, 'DogsAllowed': None, 'DriveThru': None, 'GoodForDancing': 'False', 'GoodForKids': 'False', 'GoodForMeal': \"{'dessert': False, 'latenight': False, 'lunch': False, 'dinner': False, 'brunch': True, 'breakfast': False}\", 'HairSpecializesIn': None, 'HappyHour': 'True', 'HasTV': 'True', 'Music': \"{'dj': False, 'background_music': False, 'no_music': False, 'jukebox': False, 'live': False, 'video': False, 'karaoke': False}\", 'NoiseLevel': \"u'average'\", 'Open24Hours': None, 'OutdoorSeating': 'False', 'RestaurantsAttire': \"'casual'\", 'RestaurantsCounterService': None, 'RestaurantsDelivery': 'True', 'RestaurantsGoodForGroups': 'True', 'RestaurantsPriceRange2': '2', 'RestaurantsReservations': 'False', 'RestaurantsTableService': 'True', 'RestaurantsTakeOut': 'True', 'Smoking': \"u'no'\", 'WheelchairAccessible': None, 'WiFi': \"u'free'\"}</td>\n",
       "      <td>Cocktail Bars, Bars, Italian, Nightlife, Restaurants</td>\n",
       "      <td>{'Friday': '12:0-2:0', 'Monday': '16:0-0:0', 'Saturday': '11:0-2:0', 'Sunday': '11:0-0:0', 'Thursday': '12:0-0:0', 'Tuesday': '16:0-0:0', 'Wednesday': '16:0-0:0'}</td>\n",
       "      <td>-90.0</td>\n",
       "    </tr>\n",
       "    <tr>\n",
       "      <th>29</th>\n",
       "      <td>sqSqqLy0sN8n2IZrAbzidQ</td>\n",
       "      <td>Domino's Pizza</td>\n",
       "      <td>3001 Highway 31 W</td>\n",
       "      <td>White House</td>\n",
       "      <td>TN</td>\n",
       "      <td>37188</td>\n",
       "      <td>36.465</td>\n",
       "      <td>-86.659</td>\n",
       "      <td>3.5</td>\n",
       "      <td>8</td>\n",
       "      <td>1</td>\n",
       "      <td>{'AcceptsInsurance': None, 'AgesAllowed': None, 'Alcohol': None, 'Ambience': None, 'BYOB': None, 'BYOBCorkage': None, 'BestNights': None, 'BikeParking': None, 'BusinessAcceptsBitcoin': None, 'BusinessAcceptsCreditCards': None, 'BusinessParking': None, 'ByAppointmentOnly': None, 'Caters': None, 'CoatCheck': None, 'Corkage': None, 'DietaryRestrictions': None, 'DogsAllowed': None, 'DriveThru': None, 'GoodForDancing': None, 'GoodForKids': None, 'GoodForMeal': None, 'HairSpecializesIn': None, 'HappyHour': None, 'HasTV': None, 'Music': None, 'NoiseLevel': None, 'Open24Hours': None, 'OutdoorSeating': None, 'RestaurantsAttire': None, 'RestaurantsCounterService': None, 'RestaurantsDelivery': None, 'RestaurantsGoodForGroups': None, 'RestaurantsPriceRange2': '1', 'RestaurantsReservations': None, 'RestaurantsTableService': None, 'RestaurantsTakeOut': None, 'Smoking': None, 'WheelchairAccessible': None, 'WiFi': None}</td>\n",
       "      <td>Pizza, Chicken Wings, Sandwiches, Restaurants</td>\n",
       "      <td>{'Friday': '10:0-1:0', 'Monday': '10:0-0:0', 'Saturday': '10:0-1:0', 'Sunday': '10:0-0:0', 'Thursday': '10:0-0:0', 'Tuesday': '10:0-0:0', 'Wednesday': '10:0-0:0'}</td>\n",
       "      <td>-68.0</td>\n",
       "    </tr>\n",
       "    <tr>\n",
       "      <th>31</th>\n",
       "      <td>Mjboz24M9NlBeiOJKLEd_Q</td>\n",
       "      <td>DeSandro on Main</td>\n",
       "      <td>4105 Main St</td>\n",
       "      <td>Philadelphia</td>\n",
       "      <td>PA</td>\n",
       "      <td>19127</td>\n",
       "      <td>40.022</td>\n",
       "      <td>-75.218</td>\n",
       "      <td>3.0</td>\n",
       "      <td>41</td>\n",
       "      <td>0</td>\n",
       "      <td>{'AcceptsInsurance': None, 'AgesAllowed': None, 'Alcohol': \"u'none'\", 'Ambience': \"{'romantic': False, 'intimate': False, 'classy': False, 'hipster': False, 'divey': False, 'touristy': False, 'trendy': False, 'upscale': False, 'casual': False}\", 'BYOB': None, 'BYOBCorkage': None, 'BestNights': None, 'BikeParking': 'True', 'BusinessAcceptsBitcoin': None, 'BusinessAcceptsCreditCards': 'True', 'BusinessParking': \"{'garage': False, 'street': False, 'validated': False, 'lot': False, 'valet': False}\", 'ByAppointmentOnly': None, 'Caters': 'False', 'CoatCheck': None, 'Corkage': None, 'DietaryRestrictions': None, 'DogsAllowed': None, 'DriveThru': None, 'GoodForDancing': None, 'GoodForKids': 'True', 'GoodForMeal': \"{'dessert': False, 'latenight': True, 'lunch': False, 'dinner': False, 'brunch': False, 'breakfast': False}\", 'HairSpecializesIn': None, 'HappyHour': None, 'HasTV': 'True', 'Music': None, 'NoiseLevel': \"'average'\", 'Open24Hours': None, 'OutdoorSeating': 'True', 'RestaurantsAttire': \"u'casual'\", 'RestaurantsCounterService': None, 'RestaurantsDelivery': 'True', 'RestaurantsGoodForGroups': 'True', 'RestaurantsPriceRange2': '1', 'RestaurantsReservations': 'False', 'RestaurantsTableService': 'True', 'RestaurantsTakeOut': 'True', 'Smoking': None, 'WheelchairAccessible': None, 'WiFi': \"'no'\"}</td>\n",
       "      <td>Pizza, Restaurants, Salad, Soup</td>\n",
       "      <td>{'Friday': '17:0-0:30', 'Monday': None, 'Saturday': '17:0-0:30', 'Sunday': '17:0-21:30', 'Thursday': '17:0-1:30', 'Tuesday': '17:0-21:30', 'Wednesday': '17:0-1:30'}</td>\n",
       "      <td>-55.0</td>\n",
       "    </tr>\n",
       "    <tr>\n",
       "      <th>33</th>\n",
       "      <td>kV_Q1oqis8Qli8dUoGpTyQ</td>\n",
       "      <td>Ardmore Pizza</td>\n",
       "      <td>10 Rittenhouse Pl</td>\n",
       "      <td>Ardmore</td>\n",
       "      <td>PA</td>\n",
       "      <td>19003</td>\n",
       "      <td>40.007</td>\n",
       "      <td>-75.290</td>\n",
       "      <td>3.5</td>\n",
       "      <td>109</td>\n",
       "      <td>1</td>\n",
       "      <td>{'AcceptsInsurance': None, 'AgesAllowed': None, 'Alcohol': \"u'none'\", 'Ambience': \"{'romantic': False, 'intimate': False, 'classy': False, 'hipster': False, 'divey': False, 'touristy': False, 'trendy': False, 'upscale': False, 'casual': True}\", 'BYOB': None, 'BYOBCorkage': None, 'BestNights': None, 'BikeParking': 'True', 'BusinessAcceptsBitcoin': None, 'BusinessAcceptsCreditCards': 'True', 'BusinessParking': \"{'garage': False, 'street': True, 'validated': False, 'lot': True, 'valet': False}\", 'ByAppointmentOnly': None, 'Caters': 'True', 'CoatCheck': None, 'Corkage': None, 'DietaryRestrictions': None, 'DogsAllowed': None, 'DriveThru': None, 'GoodForDancing': None, 'GoodForKids': 'True', 'GoodForMeal': \"{'dessert': False, 'latenight': True, 'lunch': False, 'dinner': True, 'brunch': False, 'breakfast': False}\", 'HairSpecializesIn': None, 'HappyHour': None, 'HasTV': 'True', 'Music': None, 'NoiseLevel': \"u'average'\", 'Open24Hours': None, 'OutdoorSeating': 'False', 'RestaurantsAttire': \"u'casual'\", 'RestaurantsCounterService': None, 'RestaurantsDelivery': 'True', 'RestaurantsGoodForGroups': 'True', 'RestaurantsPriceRange2': '1', 'RestaurantsReservations': 'False', 'RestaurantsTableService': None, 'RestaurantsTakeOut': 'True', 'Smoking': None, 'WheelchairAccessible': None, 'WiFi': \"u'no'\"}</td>\n",
       "      <td>Pizza, Restaurants</td>\n",
       "      <td>{'Friday': '11:0-1:0', 'Monday': '11:0-0:0', 'Saturday': '11:0-1:0', 'Sunday': '11:0-0:0', 'Thursday': '11:0-0:0', 'Tuesday': '11:0-0:0', 'Wednesday': '11:0-0:0'}</td>\n",
       "      <td>-75.0</td>\n",
       "    </tr>\n",
       "    <tr>\n",
       "      <th>46</th>\n",
       "      <td>JX4tUpd09YFchLBuI43lGw</td>\n",
       "      <td>Naked Cyber Cafe &amp; Espresso Bar</td>\n",
       "      <td>10303  108 Street NW</td>\n",
       "      <td>Edmonton</td>\n",
       "      <td>AB</td>\n",
       "      <td>T5J 1L7</td>\n",
       "      <td>53.545</td>\n",
       "      <td>-113.507</td>\n",
       "      <td>4.0</td>\n",
       "      <td>12</td>\n",
       "      <td>1</td>\n",
       "      <td>{'AcceptsInsurance': None, 'AgesAllowed': None, 'Alcohol': \"u'none'\", 'Ambience': None, 'BYOB': None, 'BYOBCorkage': None, 'BestNights': None, 'BikeParking': 'True', 'BusinessAcceptsBitcoin': None, 'BusinessAcceptsCreditCards': None, 'BusinessParking': \"{'garage': False, 'street': True, 'validated': True, 'lot': True, 'valet': False}\", 'ByAppointmentOnly': None, 'Caters': 'False', 'CoatCheck': 'False', 'Corkage': None, 'DietaryRestrictions': None, 'DogsAllowed': 'False', 'DriveThru': None, 'GoodForDancing': None, 'GoodForKids': None, 'GoodForMeal': None, 'HairSpecializesIn': None, 'HappyHour': None, 'HasTV': 'False', 'Music': \"{'dj': False, 'background_music': False, 'no_music': False, 'jukebox': False, 'live': True, 'video': False, 'karaoke': False}\", 'NoiseLevel': None, 'Open24Hours': None, 'OutdoorSeating': 'False', 'RestaurantsAttire': None, 'RestaurantsCounterService': None, 'RestaurantsDelivery': None, 'RestaurantsGoodForGroups': None, 'RestaurantsPriceRange2': '2', 'RestaurantsReservations': None, 'RestaurantsTableService': None, 'RestaurantsTakeOut': 'True', 'Smoking': \"u'no'\", 'WheelchairAccessible': 'True', 'WiFi': \"u'free'\"}</td>\n",
       "      <td>Arts &amp; Entertainment, Music Venues, Internet Service Providers, Nightlife, Food, Coffee &amp; Tea, Jazz &amp; Blues, Professional Services, Internet Cafes</td>\n",
       "      <td>{'Friday': '11:0-1:0', 'Monday': '11:0-1:0', 'Saturday': '19:0-1:0', 'Sunday': '19:0-1:0', 'Thursday': '11:0-1:0', 'Tuesday': '11:0-1:0', 'Wednesday': '11:0-1:0'}</td>\n",
       "      <td>-86.0</td>\n",
       "    </tr>\n",
       "  </tbody>\n",
       "</table>\n",
       "</div>"
      ],
      "text/plain": [
       "   business_id             name                             address               city          state postal_code  latitude  longitude  stars  review_count  is_open  \\\n",
       "28  QdN72BWoyFypdGJhhI5r7g                          Bar One          767 S 9th St  Philadelphia  PA      19147     39.940    -75.157    4.0     65           0         \n",
       "29  sqSqqLy0sN8n2IZrAbzidQ                   Domino's Pizza     3001 Highway 31 W   White House  TN      37188     36.465    -86.659    3.5      8           1         \n",
       "31  Mjboz24M9NlBeiOJKLEd_Q                 DeSandro on Main          4105 Main St  Philadelphia  PA      19127     40.022    -75.218    3.0     41           0         \n",
       "33  kV_Q1oqis8Qli8dUoGpTyQ                    Ardmore Pizza     10 Rittenhouse Pl       Ardmore  PA      19003     40.007    -75.290    3.5    109           1         \n",
       "46  JX4tUpd09YFchLBuI43lGw  Naked Cyber Cafe & Espresso Bar  10303  108 Street NW      Edmonton  AB    T5J 1L7     53.545   -113.507    4.0     12           1         \n",
       "\n",
       "   attributes                                                                                                                                                                                                                                                                                                                                                                                                                                                                                                                                                                                                                                                                                                                                                                                                                                                                                                                                                                                                                                                                                                                                                                                                                                                                                                                                                                                                                                                                                         \\\n",
       "28  {'AcceptsInsurance': None, 'AgesAllowed': None, 'Alcohol': \"u'full_bar'\", 'Ambience': \"{'touristy': False, 'hipster': True, 'romantic': None, 'divey': False, 'intimate': False, 'trendy': None, 'upscale': False, 'classy': None, 'casual': True}\", 'BYOB': None, 'BYOBCorkage': None, 'BestNights': None, 'BikeParking': 'True', 'BusinessAcceptsBitcoin': None, 'BusinessAcceptsCreditCards': 'True', 'BusinessParking': \"{'garage': None, 'street': True, 'validated': None, 'lot': False, 'valet': False}\", 'ByAppointmentOnly': None, 'Caters': 'False', 'CoatCheck': None, 'Corkage': None, 'DietaryRestrictions': None, 'DogsAllowed': None, 'DriveThru': None, 'GoodForDancing': 'False', 'GoodForKids': 'False', 'GoodForMeal': \"{'dessert': False, 'latenight': False, 'lunch': False, 'dinner': False, 'brunch': True, 'breakfast': False}\", 'HairSpecializesIn': None, 'HappyHour': 'True', 'HasTV': 'True', 'Music': \"{'dj': False, 'background_music': False, 'no_music': False, 'jukebox': False, 'live': False, 'video': False, 'karaoke': False}\", 'NoiseLevel': \"u'average'\", 'Open24Hours': None, 'OutdoorSeating': 'False', 'RestaurantsAttire': \"'casual'\", 'RestaurantsCounterService': None, 'RestaurantsDelivery': 'True', 'RestaurantsGoodForGroups': 'True', 'RestaurantsPriceRange2': '2', 'RestaurantsReservations': 'False', 'RestaurantsTableService': 'True', 'RestaurantsTakeOut': 'True', 'Smoking': \"u'no'\", 'WheelchairAccessible': None, 'WiFi': \"u'free'\"}   \n",
       "29                                                                                                                                                                                                                                                                                                                                                                                                                                                                                                                                             {'AcceptsInsurance': None, 'AgesAllowed': None, 'Alcohol': None, 'Ambience': None, 'BYOB': None, 'BYOBCorkage': None, 'BestNights': None, 'BikeParking': None, 'BusinessAcceptsBitcoin': None, 'BusinessAcceptsCreditCards': None, 'BusinessParking': None, 'ByAppointmentOnly': None, 'Caters': None, 'CoatCheck': None, 'Corkage': None, 'DietaryRestrictions': None, 'DogsAllowed': None, 'DriveThru': None, 'GoodForDancing': None, 'GoodForKids': None, 'GoodForMeal': None, 'HairSpecializesIn': None, 'HappyHour': None, 'HasTV': None, 'Music': None, 'NoiseLevel': None, 'Open24Hours': None, 'OutdoorSeating': None, 'RestaurantsAttire': None, 'RestaurantsCounterService': None, 'RestaurantsDelivery': None, 'RestaurantsGoodForGroups': None, 'RestaurantsPriceRange2': '1', 'RestaurantsReservations': None, 'RestaurantsTableService': None, 'RestaurantsTakeOut': None, 'Smoking': None, 'WheelchairAccessible': None, 'WiFi': None}   \n",
       "31                                                                                                                                       {'AcceptsInsurance': None, 'AgesAllowed': None, 'Alcohol': \"u'none'\", 'Ambience': \"{'romantic': False, 'intimate': False, 'classy': False, 'hipster': False, 'divey': False, 'touristy': False, 'trendy': False, 'upscale': False, 'casual': False}\", 'BYOB': None, 'BYOBCorkage': None, 'BestNights': None, 'BikeParking': 'True', 'BusinessAcceptsBitcoin': None, 'BusinessAcceptsCreditCards': 'True', 'BusinessParking': \"{'garage': False, 'street': False, 'validated': False, 'lot': False, 'valet': False}\", 'ByAppointmentOnly': None, 'Caters': 'False', 'CoatCheck': None, 'Corkage': None, 'DietaryRestrictions': None, 'DogsAllowed': None, 'DriveThru': None, 'GoodForDancing': None, 'GoodForKids': 'True', 'GoodForMeal': \"{'dessert': False, 'latenight': True, 'lunch': False, 'dinner': False, 'brunch': False, 'breakfast': False}\", 'HairSpecializesIn': None, 'HappyHour': None, 'HasTV': 'True', 'Music': None, 'NoiseLevel': \"'average'\", 'Open24Hours': None, 'OutdoorSeating': 'True', 'RestaurantsAttire': \"u'casual'\", 'RestaurantsCounterService': None, 'RestaurantsDelivery': 'True', 'RestaurantsGoodForGroups': 'True', 'RestaurantsPriceRange2': '1', 'RestaurantsReservations': 'False', 'RestaurantsTableService': 'True', 'RestaurantsTakeOut': 'True', 'Smoking': None, 'WheelchairAccessible': None, 'WiFi': \"'no'\"}   \n",
       "33                                                                                                                                           {'AcceptsInsurance': None, 'AgesAllowed': None, 'Alcohol': \"u'none'\", 'Ambience': \"{'romantic': False, 'intimate': False, 'classy': False, 'hipster': False, 'divey': False, 'touristy': False, 'trendy': False, 'upscale': False, 'casual': True}\", 'BYOB': None, 'BYOBCorkage': None, 'BestNights': None, 'BikeParking': 'True', 'BusinessAcceptsBitcoin': None, 'BusinessAcceptsCreditCards': 'True', 'BusinessParking': \"{'garage': False, 'street': True, 'validated': False, 'lot': True, 'valet': False}\", 'ByAppointmentOnly': None, 'Caters': 'True', 'CoatCheck': None, 'Corkage': None, 'DietaryRestrictions': None, 'DogsAllowed': None, 'DriveThru': None, 'GoodForDancing': None, 'GoodForKids': 'True', 'GoodForMeal': \"{'dessert': False, 'latenight': True, 'lunch': False, 'dinner': True, 'brunch': False, 'breakfast': False}\", 'HairSpecializesIn': None, 'HappyHour': None, 'HasTV': 'True', 'Music': None, 'NoiseLevel': \"u'average'\", 'Open24Hours': None, 'OutdoorSeating': 'False', 'RestaurantsAttire': \"u'casual'\", 'RestaurantsCounterService': None, 'RestaurantsDelivery': 'True', 'RestaurantsGoodForGroups': 'True', 'RestaurantsPriceRange2': '1', 'RestaurantsReservations': 'False', 'RestaurantsTableService': None, 'RestaurantsTakeOut': 'True', 'Smoking': None, 'WheelchairAccessible': None, 'WiFi': \"u'no'\"}   \n",
       "46                                                                                                                                                                                                                                                                                                 {'AcceptsInsurance': None, 'AgesAllowed': None, 'Alcohol': \"u'none'\", 'Ambience': None, 'BYOB': None, 'BYOBCorkage': None, 'BestNights': None, 'BikeParking': 'True', 'BusinessAcceptsBitcoin': None, 'BusinessAcceptsCreditCards': None, 'BusinessParking': \"{'garage': False, 'street': True, 'validated': True, 'lot': True, 'valet': False}\", 'ByAppointmentOnly': None, 'Caters': 'False', 'CoatCheck': 'False', 'Corkage': None, 'DietaryRestrictions': None, 'DogsAllowed': 'False', 'DriveThru': None, 'GoodForDancing': None, 'GoodForKids': None, 'GoodForMeal': None, 'HairSpecializesIn': None, 'HappyHour': None, 'HasTV': 'False', 'Music': \"{'dj': False, 'background_music': False, 'no_music': False, 'jukebox': False, 'live': True, 'video': False, 'karaoke': False}\", 'NoiseLevel': None, 'Open24Hours': None, 'OutdoorSeating': 'False', 'RestaurantsAttire': None, 'RestaurantsCounterService': None, 'RestaurantsDelivery': None, 'RestaurantsGoodForGroups': None, 'RestaurantsPriceRange2': '2', 'RestaurantsReservations': None, 'RestaurantsTableService': None, 'RestaurantsTakeOut': 'True', 'Smoking': \"u'no'\", 'WheelchairAccessible': 'True', 'WiFi': \"u'free'\"}   \n",
       "\n",
       "   categories                                                                                                                                          hours                                                                                                                                                                  total_hours  \n",
       "28                                                                                                Cocktail Bars, Bars, Italian, Nightlife, Restaurants    {'Friday': '12:0-2:0', 'Monday': '16:0-0:0', 'Saturday': '11:0-2:0', 'Sunday': '11:0-0:0', 'Thursday': '12:0-0:0', 'Tuesday': '16:0-0:0', 'Wednesday': '16:0-0:0'} -90.0         \n",
       "29                                                                                                       Pizza, Chicken Wings, Sandwiches, Restaurants    {'Friday': '10:0-1:0', 'Monday': '10:0-0:0', 'Saturday': '10:0-1:0', 'Sunday': '10:0-0:0', 'Thursday': '10:0-0:0', 'Tuesday': '10:0-0:0', 'Wednesday': '10:0-0:0'} -68.0         \n",
       "31                                                                                                                     Pizza, Restaurants, Salad, Soup  {'Friday': '17:0-0:30', 'Monday': None, 'Saturday': '17:0-0:30', 'Sunday': '17:0-21:30', 'Thursday': '17:0-1:30', 'Tuesday': '17:0-21:30', 'Wednesday': '17:0-1:30'} -55.0         \n",
       "33                                                                                                                                  Pizza, Restaurants    {'Friday': '11:0-1:0', 'Monday': '11:0-0:0', 'Saturday': '11:0-1:0', 'Sunday': '11:0-0:0', 'Thursday': '11:0-0:0', 'Tuesday': '11:0-0:0', 'Wednesday': '11:0-0:0'} -75.0         \n",
       "46  Arts & Entertainment, Music Venues, Internet Service Providers, Nightlife, Food, Coffee & Tea, Jazz & Blues, Professional Services, Internet Cafes    {'Friday': '11:0-1:0', 'Monday': '11:0-1:0', 'Saturday': '19:0-1:0', 'Sunday': '19:0-1:0', 'Thursday': '11:0-1:0', 'Tuesday': '11:0-1:0', 'Wednesday': '11:0-1:0'} -86.0         "
      ]
     },
     "execution_count": 29,
     "metadata": {},
     "output_type": "execute_result"
    }
   ],
   "source": [
    "negative_hours_df = b[b['total_hours'] < 0]\n",
    "negative_hours_df.head()"
   ]
  },
  {
   "cell_type": "code",
   "execution_count": 37,
   "id": "9e9b025b-96f6-4a2d-895c-ffadf6c9b34e",
   "metadata": {
    "tags": []
   },
   "outputs": [
    {
     "name": "stdout",
     "output_type": "stream",
     "text": [
      "<class 'pandas.core.frame.DataFrame'>\n",
      "RangeIndex: 150243 entries, 0 to 150242\n",
      "Data columns (total 15 columns):\n",
      " #   Column        Non-Null Count   Dtype  \n",
      "---  ------        --------------   -----  \n",
      " 0   business_id   150243 non-null  object \n",
      " 1   name          150243 non-null  object \n",
      " 2   address       145117 non-null  object \n",
      " 3   city          150243 non-null  object \n",
      " 4   state         150243 non-null  object \n",
      " 5   postal_code   150170 non-null  object \n",
      " 6   latitude      150243 non-null  float64\n",
      " 7   longitude     150243 non-null  float64\n",
      " 8   stars         150243 non-null  float64\n",
      " 9   review_count  150243 non-null  int64  \n",
      " 10  is_open       150243 non-null  int64  \n",
      " 11  attributes    150243 non-null  object \n",
      " 12  categories    150243 non-null  object \n",
      " 13  hours         150243 non-null  object \n",
      " 14  total_hours   127123 non-null  float64\n",
      "dtypes: float64(4), int64(2), object(9)\n",
      "memory usage: 17.2+ MB\n"
     ]
    }
   ],
   "source": [
    "b.info()"
   ]
  },
  {
   "cell_type": "code",
   "execution_count": 38,
   "id": "fa6ee742-aa84-414e-9796-75f582688f7b",
   "metadata": {
    "tags": []
   },
   "outputs": [],
   "source": [
    "b.to_csv(\"clean_business.csv\")"
   ]
  },
  {
   "cell_type": "code",
   "execution_count": 41,
   "id": "a310c049-c260-400a-956c-74916ef3f950",
   "metadata": {
    "tags": []
   },
   "outputs": [],
   "source": [
    "b_cluster = b[[\"latitude\",\"longitude\",\"stars\",\"review_count\",\"total_hours\"]]         "
   ]
  },
  {
   "cell_type": "code",
   "execution_count": 42,
   "id": "7a5ab143-f2ee-484b-9750-2a851e554fe1",
   "metadata": {
    "tags": []
   },
   "outputs": [
    {
     "data": {
      "text/html": [
       "<div>\n",
       "<style scoped>\n",
       "    .dataframe tbody tr th:only-of-type {\n",
       "        vertical-align: middle;\n",
       "    }\n",
       "\n",
       "    .dataframe tbody tr th {\n",
       "        vertical-align: top;\n",
       "    }\n",
       "\n",
       "    .dataframe thead th {\n",
       "        text-align: right;\n",
       "    }\n",
       "</style>\n",
       "<table border=\"1\" class=\"dataframe\">\n",
       "  <thead>\n",
       "    <tr style=\"text-align: left;\">\n",
       "      <th></th>\n",
       "      <th>latitude</th>\n",
       "      <th>longitude</th>\n",
       "      <th>stars</th>\n",
       "      <th>review_count</th>\n",
       "      <th>total_hours</th>\n",
       "    </tr>\n",
       "  </thead>\n",
       "  <tbody>\n",
       "    <tr>\n",
       "      <th>0</th>\n",
       "      <td>34.427</td>\n",
       "      <td>-119.711</td>\n",
       "      <td>5.0</td>\n",
       "      <td>7</td>\n",
       "      <td>NaN</td>\n",
       "    </tr>\n",
       "    <tr>\n",
       "      <th>1</th>\n",
       "      <td>38.551</td>\n",
       "      <td>-90.336</td>\n",
       "      <td>3.0</td>\n",
       "      <td>15</td>\n",
       "      <td>48.0</td>\n",
       "    </tr>\n",
       "    <tr>\n",
       "      <th>2</th>\n",
       "      <td>32.223</td>\n",
       "      <td>-110.880</td>\n",
       "      <td>3.5</td>\n",
       "      <td>22</td>\n",
       "      <td>100.0</td>\n",
       "    </tr>\n",
       "    <tr>\n",
       "      <th>3</th>\n",
       "      <td>39.956</td>\n",
       "      <td>-75.156</td>\n",
       "      <td>4.0</td>\n",
       "      <td>80</td>\n",
       "      <td>94.0</td>\n",
       "    </tr>\n",
       "    <tr>\n",
       "      <th>4</th>\n",
       "      <td>40.338</td>\n",
       "      <td>-75.472</td>\n",
       "      <td>4.5</td>\n",
       "      <td>13</td>\n",
       "      <td>40.0</td>\n",
       "    </tr>\n",
       "  </tbody>\n",
       "</table>\n",
       "</div>"
      ],
      "text/plain": [
       "   latitude  longitude  stars  review_count  total_hours\n",
       "0  34.427   -119.711    5.0     7              NaN      \n",
       "1  38.551    -90.336    3.0    15             48.0      \n",
       "2  32.223   -110.880    3.5    22            100.0      \n",
       "3  39.956    -75.156    4.0    80             94.0      \n",
       "4  40.338    -75.472    4.5    13             40.0      "
      ]
     },
     "execution_count": 42,
     "metadata": {},
     "output_type": "execute_result"
    }
   ],
   "source": [
    "b_cluster.head()"
   ]
  },
  {
   "cell_type": "code",
   "execution_count": 44,
   "id": "5722b52a-8e66-4771-a142-60aa4f4be11e",
   "metadata": {
    "tags": []
   },
   "outputs": [
    {
     "name": "stdout",
     "output_type": "stream",
     "text": [
      "Collecting geopy\n",
      "  Downloading geopy-2.4.1-py3-none-any.whl.metadata (6.8 kB)\n",
      "Collecting geographiclib<3,>=1.52 (from geopy)\n",
      "  Downloading geographiclib-2.0-py3-none-any.whl.metadata (1.4 kB)\n",
      "Downloading geopy-2.4.1-py3-none-any.whl (125 kB)\n",
      "Downloading geographiclib-2.0-py3-none-any.whl (40 kB)\n",
      "Installing collected packages: geographiclib, geopy\n",
      "Successfully installed geographiclib-2.0 geopy-2.4.1\n"
     ]
    }
   ],
   "source": [
    "!pip install geopy"
   ]
  },
  {
   "cell_type": "code",
   "execution_count": 47,
   "id": "2d4a48fb-187e-4f53-8192-25d27211d8c3",
   "metadata": {
    "tags": []
   },
   "outputs": [
    {
     "name": "stdout",
     "output_type": "stream",
     "text": [
      "Collecting folium\n",
      "  Downloading folium-0.19.4-py2.py3-none-any.whl.metadata (3.8 kB)\n",
      "Collecting branca>=0.6.0 (from folium)\n",
      "  Downloading branca-0.8.1-py3-none-any.whl.metadata (1.5 kB)\n",
      "Requirement already satisfied: jinja2>=2.9 in /opt/conda/lib/python3.10/site-packages (from folium) (3.1.5)\n",
      "Requirement already satisfied: numpy in /opt/conda/lib/python3.10/site-packages (from folium) (1.24.4)\n",
      "Requirement already satisfied: requests in /opt/conda/lib/python3.10/site-packages (from folium) (2.32.3)\n",
      "Collecting xyzservices (from folium)\n",
      "  Downloading xyzservices-2025.1.0-py3-none-any.whl.metadata (4.3 kB)\n",
      "Requirement already satisfied: MarkupSafe>=2.0 in /opt/conda/lib/python3.10/site-packages (from jinja2>=2.9->folium) (3.0.2)\n",
      "Requirement already satisfied: charset_normalizer<4,>=2 in /opt/conda/lib/python3.10/site-packages (from requests->folium) (3.4.0)\n",
      "Requirement already satisfied: idna<4,>=2.5 in /opt/conda/lib/python3.10/site-packages (from requests->folium) (3.10)\n",
      "Requirement already satisfied: urllib3<3,>=1.21.1 in /opt/conda/lib/python3.10/site-packages (from requests->folium) (1.26.20)\n",
      "Requirement already satisfied: certifi>=2017.4.17 in /opt/conda/lib/python3.10/site-packages (from requests->folium) (2024.12.14)\n",
      "Downloading folium-0.19.4-py2.py3-none-any.whl (110 kB)\n",
      "Downloading branca-0.8.1-py3-none-any.whl (26 kB)\n",
      "Downloading xyzservices-2025.1.0-py3-none-any.whl (88 kB)\n",
      "Installing collected packages: xyzservices, branca, folium\n",
      "Successfully installed branca-0.8.1 folium-0.19.4 xyzservices-2025.1.0\n"
     ]
    }
   ],
   "source": [
    "!pip install folium"
   ]
  },
  {
   "cell_type": "code",
   "execution_count": 51,
   "id": "12c08806-f12f-48ed-a3b1-dd5c6554d1da",
   "metadata": {
    "tags": []
   },
   "outputs": [
    {
     "name": "stdout",
     "output_type": "stream",
     "text": [
      "Collecting basemap\n",
      "  Downloading basemap-1.4.1-cp310-cp310-manylinux1_x86_64.whl.metadata (9.1 kB)\n",
      "Collecting basemap-data\n",
      "  Downloading basemap_data-1.3.2-py2.py3-none-any.whl.metadata (2.7 kB)\n",
      "Collecting pyshp<2.4,>=1.2 (from basemap)\n",
      "  Downloading pyshp-2.3.1-py2.py3-none-any.whl.metadata (55 kB)\n",
      "Requirement already satisfied: matplotlib<3.9,>=1.5 in /opt/conda/lib/python3.10/site-packages (from basemap) (3.7.3)\n",
      "Collecting pyproj<3.7.0,>=1.9.3 (from basemap)\n",
      "  Downloading pyproj-3.6.1-cp310-cp310-manylinux_2_17_x86_64.manylinux2014_x86_64.whl.metadata (31 kB)\n",
      "Collecting packaging<24.0,>=16.0 (from basemap)\n",
      "  Downloading packaging-23.2-py3-none-any.whl.metadata (3.2 kB)\n",
      "Requirement already satisfied: numpy<1.27,>=1.21 in /opt/conda/lib/python3.10/site-packages (from basemap) (1.24.4)\n",
      "Requirement already satisfied: contourpy>=1.0.1 in /opt/conda/lib/python3.10/site-packages (from matplotlib<3.9,>=1.5->basemap) (1.3.1)\n",
      "Requirement already satisfied: cycler>=0.10 in /opt/conda/lib/python3.10/site-packages (from matplotlib<3.9,>=1.5->basemap) (0.12.1)\n",
      "Requirement already satisfied: fonttools>=4.22.0 in /opt/conda/lib/python3.10/site-packages (from matplotlib<3.9,>=1.5->basemap) (4.55.3)\n",
      "Requirement already satisfied: kiwisolver>=1.0.1 in /opt/conda/lib/python3.10/site-packages (from matplotlib<3.9,>=1.5->basemap) (1.4.8)\n",
      "Requirement already satisfied: pillow>=6.2.0 in /opt/conda/lib/python3.10/site-packages (from matplotlib<3.9,>=1.5->basemap) (11.0.0)\n",
      "Requirement already satisfied: pyparsing>=2.3.1 in /opt/conda/lib/python3.10/site-packages (from matplotlib<3.9,>=1.5->basemap) (3.2.0)\n",
      "Requirement already satisfied: python-dateutil>=2.7 in /opt/conda/lib/python3.10/site-packages (from matplotlib<3.9,>=1.5->basemap) (2.9.0.post0)\n",
      "Requirement already satisfied: certifi in /opt/conda/lib/python3.10/site-packages (from pyproj<3.7.0,>=1.9.3->basemap) (2024.12.14)\n",
      "Requirement already satisfied: six>=1.5 in /opt/conda/lib/python3.10/site-packages (from python-dateutil>=2.7->matplotlib<3.9,>=1.5->basemap) (1.17.0)\n",
      "Downloading basemap-1.4.1-cp310-cp310-manylinux1_x86_64.whl (935 kB)\n",
      "\u001b[2K   \u001b[90m━━━━━━━━━━━━━━━━━━━━━━━━━━━━━━━━━━━━━━━━\u001b[0m \u001b[32m936.0/936.0 kB\u001b[0m \u001b[31m23.4 MB/s\u001b[0m eta \u001b[36m0:00:00\u001b[0m\n",
      "\u001b[?25hDownloading basemap_data-1.3.2-py2.py3-none-any.whl (30.5 MB)\n",
      "\u001b[2K   \u001b[90m━━━━━━━━━━━━━━━━━━━━━━━━━━━━━━━━━━━━━━━━\u001b[0m \u001b[32m30.5/30.5 MB\u001b[0m \u001b[31m120.0 MB/s\u001b[0m eta \u001b[36m0:00:00\u001b[0m00:01\u001b[0m\n",
      "\u001b[?25hDownloading packaging-23.2-py3-none-any.whl (53 kB)\n",
      "Downloading pyproj-3.6.1-cp310-cp310-manylinux_2_17_x86_64.manylinux2014_x86_64.whl (8.3 MB)\n",
      "\u001b[2K   \u001b[90m━━━━━━━━━━━━━━━━━━━━━━━━━━━━━━━━━━━━━━━━\u001b[0m \u001b[32m8.3/8.3 MB\u001b[0m \u001b[31m155.8 MB/s\u001b[0m eta \u001b[36m0:00:00\u001b[0m\n",
      "\u001b[?25hDownloading pyshp-2.3.1-py2.py3-none-any.whl (46 kB)\n",
      "Installing collected packages: pyshp, pyproj, packaging, basemap-data, basemap\n",
      "  Attempting uninstall: pyproj\n",
      "    Found existing installation: pyproj 3.7.0\n",
      "    Uninstalling pyproj-3.7.0:\n",
      "      Successfully uninstalled pyproj-3.7.0\n",
      "\u001b[33m  WARNING: Failed to remove contents in a temporary directory '/opt/conda/lib/python3.10/site-packages/~yproj'.\n",
      "  You can safely remove it manually.\u001b[0m\u001b[33m\n",
      "\u001b[0m  Attempting uninstall: packaging\n",
      "    Found existing installation: packaging 24.2\n",
      "    Uninstalling packaging-24.2:\n",
      "      Successfully uninstalled packaging-24.2\n",
      "Successfully installed basemap-1.4.1 basemap-data-1.3.2 packaging-23.2 pyproj-3.6.1 pyshp-2.3.1\n"
     ]
    }
   ],
   "source": [
    "!pip install basemap basemap-data"
   ]
  },
  {
   "cell_type": "code",
   "execution_count": 57,
   "id": "f1e5dc21-c03a-4cc7-a966-3b9ad0f800ad",
   "metadata": {
    "tags": []
   },
   "outputs": [
    {
     "name": "stdout",
     "output_type": "stream",
     "text": [
      "Collecting hdbscan\n",
      "  Downloading hdbscan-0.8.40-cp310-cp310-manylinux_2_17_x86_64.manylinux2014_x86_64.whl.metadata (15 kB)\n",
      "Requirement already satisfied: numpy<3,>=1.20 in /opt/conda/lib/python3.10/site-packages (from hdbscan) (1.24.4)\n",
      "Requirement already satisfied: scipy>=1.0 in /opt/conda/lib/python3.10/site-packages (from hdbscan) (1.11.4)\n",
      "Requirement already satisfied: scikit-learn>=0.20 in /opt/conda/lib/python3.10/site-packages (from hdbscan) (1.6.0)\n",
      "Requirement already satisfied: joblib>=1.0 in /opt/conda/lib/python3.10/site-packages (from hdbscan) (1.4.2)\n",
      "Requirement already satisfied: threadpoolctl>=3.1.0 in /opt/conda/lib/python3.10/site-packages (from scikit-learn>=0.20->hdbscan) (3.5.0)\n",
      "Downloading hdbscan-0.8.40-cp310-cp310-manylinux_2_17_x86_64.manylinux2014_x86_64.whl (4.2 MB)\n",
      "\u001b[2K   \u001b[90m━━━━━━━━━━━━━━━━━━━━━━━━━━━━━━━━━━━━━━━━\u001b[0m \u001b[32m4.2/4.2 MB\u001b[0m \u001b[31m62.6 MB/s\u001b[0m eta \u001b[36m0:00:00\u001b[0m\n",
      "\u001b[?25hInstalling collected packages: hdbscan\n",
      "Successfully installed hdbscan-0.8.40\n"
     ]
    }
   ],
   "source": [
    "!pip install hdbscan"
   ]
  },
  {
   "cell_type": "code",
   "execution_count": 65,
   "id": "668c9342-2da1-46ac-94ba-b035cc169264",
   "metadata": {
    "tags": []
   },
   "outputs": [
    {
     "name": "stderr",
     "output_type": "stream",
     "text": [
      "/var/tmp/ipykernel_225411/4211018809.py:36: MatplotlibDeprecationWarning: The get_cmap function was deprecated in Matplotlib 3.7 and will be removed two minor releases later. Use ``matplotlib.colormaps[name]`` or ``matplotlib.colormaps.get_cmap(obj)`` instead.\n",
      "  colors = plt.cm.get_cmap(\"tab10\", len(unique_clusters))\n",
      "/var/tmp/ipykernel_225411/4211018809.py:46: UserWarning: *c* argument looks like a single numeric RGB or RGBA sequence, which should be avoided as value-mapping will have precedence in case its length matches with *x* & *y*.  Please use the *color* keyword-argument or provide a 2D array with a single row if you intend to specify the same RGB or RGBA value for all points.\n",
      "  m.scatter(x[cluster_mask], y[cluster_mask], s=80, c=color, label=label, alpha=0.7)\n"
     ]
    },
    {
     "data": {
      "image/png": "[encoded data removed]",
      "text/plain": [
       "<Figure size 1200x800 with 1 Axes>"
      ]
     },
     "metadata": {},
     "output_type": "display_data"
    }
   ],
   "source": [
    "import numpy as np\n",
    "import pandas as pd\n",
    "import matplotlib.pyplot as plt\n",
    "from sklearn.cluster import DBSCAN\n",
    "from mpl_toolkits.basemap import Basemap\n",
    "\n",
    "# Load business data (assuming b_cluster exists)\n",
    "df = b_cluster.copy()\n",
    "\n",
    "# Extract latitude and longitude\n",
    "coords = df[['latitude', 'longitude']].to_numpy()\n",
    "\n",
    "# Convert degrees to radians (required for Haversine distance)\n",
    "coords_radians = np.radians(coords)\n",
    "\n",
    "# Apply DBSCAN clustering\n",
    "db = DBSCAN(eps=10/6371, min_samples=5, metric='haversine').fit(coords_radians)\n",
    "df['cluster'] = db.labels_\n",
    "\n",
    "# Initialize Basemap for the US\n",
    "plt.figure(figsize=(12, 8))\n",
    "m = Basemap(projection='merc', llcrnrlat=24, urcrnrlat=50, llcrnrlon=-125, urcrnrlon=-66, resolution='l')\n",
    "\n",
    "# Draw map details\n",
    "m.drawcoastlines()\n",
    "m.drawcountries()\n",
    "m.drawstates()\n",
    "m.fillcontinents(color='lightgray', lake_color='aqua')\n",
    "m.drawmapboundary(fill_color='aqua')\n",
    "\n",
    "# Convert lat/lon to map coordinates\n",
    "x, y = m(df['longitude'].values, df['latitude'].values)\n",
    "\n",
    "# Assign colors to clusters\n",
    "unique_clusters = df['cluster'].unique()\n",
    "colors = plt.cm.get_cmap(\"tab10\", len(unique_clusters))\n",
    "\n",
    "# Increase cluster marker size\n",
    "for cluster_label in unique_clusters:\n",
    "    cluster_mask = df['cluster'] == cluster_label\n",
    "    if cluster_label == -1:\n",
    "        color = 'black'  # Assign black to outliers\n",
    "    else:\n",
    "        color = colors(cluster_label % 10)  # Assign different colors to clusters\n",
    "    label = 'Outlier' if cluster_label == -1 else f'Cluster {cluster_label}'\n",
    "    m.scatter(x[cluster_mask], y[cluster_mask], s=80, c=color, label=label, alpha=0.7)\n",
    "\n",
    "# Set the legend outside the plot\n",
    "plt.legend(loc='center left', bbox_to_anchor=(1, 0.5))\n",
    "plt.title(\"DBSCAN Clustering of Businesses (Fast Static US Map)\")\n",
    "plt.show()\n"
   ]
  }
 ],
 "metadata": {
  "environment": {
   "kernel": "python3",
   "name": "tf2-gpu.2-17.m127",
   "type": "gcloud",
   "uri": "us-docker.pkg.dev/deeplearning-platform-release/gcr.io/tf2-gpu.2-17:m127"
  },
  "kernelspec": {
   "display_name": "Python 3",
   "language": "python",
   "name": "python3"
  },
  "language_info": {
   "codemirror_mode": {
    "name": "ipython",
    "version": 3
   },
   "file_extension": ".py",
   "mimetype": "text/x-python",
   "name": "python",
   "nbconvert_exporter": "python",
   "pygments_lexer": "ipython3",
   "version": "3.10.16"
  }
 },
 "nbformat": 4,
 "nbformat_minor": 5
}
